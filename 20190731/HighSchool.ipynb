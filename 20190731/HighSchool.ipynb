{
 "cells": [
  {
   "cell_type": "code",
   "execution_count": 1,
   "metadata": {},
   "outputs": [],
   "source": [
    "import nltk\n",
    "import matplotlib.pyplot as plt\n",
    "from wordcloud import WordCloud, STOPWORDS\n",
    "import numpy as np\n",
    "from PIL import Image\n",
    "\n",
    "# kobill 모듈 import\n",
    "from konlpy.corpus import kobill\n",
    "files_ko = kobill.fileids()\n",
    "\n",
    "import matplotlib.pyplot as plt\n",
    "%matplotlib inline\n",
    "from matplotlib import font_manager, rc\n",
    "import platform\n",
    "\n",
    "path = \"c:/Windows/Fonts/malgun.ttf\"\n",
    "if platform.system() == 'Darwin':\n",
    "    rc('font', family='AppleGothic')\n",
    "elif platform.system() == 'Windows':\n",
    "    font_name = font_manager.FontProperties(fname=path).get_name()\n",
    "    rc('font', family=font_name)\n",
    "else:\n",
    "    print('Unknown system... sorry~~~~')"
   ]
  },
  {
   "cell_type": "code",
   "execution_count": 2,
   "metadata": {},
   "outputs": [],
   "source": [
    "# 텍스트 파일 읽어오기\n",
    "doc_ko = kobill.open('1809894.txt').read()"
   ]
  },
  {
   "cell_type": "code",
   "execution_count": 3,
   "metadata": {},
   "outputs": [
    {
     "data": {
      "text/plain": [
       "'고등교육법 일부개정법률안\\n\\n(안상수의원 대표발의 )\\n\\n 의 안\\n 번 호\\n\\n9894\\n\\n발의연월일 : 2010.  11.  15.\\n\\n발  의  자 : 안상수․김정훈․원희목 \\n\\n강석호․서상기․나성린 \\n\\n권영진․이춘식․정영희 \\n\\n이애주․안형환․백성운 \\n\\n김금래 의원(13인)\\n\\n제안이유 및 주요내용\\n\\n  현재 간호사의 경우 전문대학 졸업 또는 대학 졸업에 상관없이 면\\n\\n허증을 취득할 수 있지만, 학위의 종류가 전문학사이기 때문에 학사학\\n\\n위를 취득하기 위하여 87.2%가 별도로 학사학위 교육과정을 이수하고 \\n\\n있는 실정임.\\n\\n  이러한 4년제 간호 교육의 필요성과 선진 각국의 경향을 고려하고 \\n\\n국민에 대한 보다 나은 의료 서비스를 제공하기 위하여 대통령령이 \\n\\n정하는 일정한 기준을 충족하는 간호과에 대해서는 수업연한을 4년으\\n\\n로 하고, 수여하는 학위의 종류를 학사학위로 하도록 함(안 제50조의3 \\n\\n신설).\\n\\n- 1 -\\n\\n\\x0c법률  제        호\\n\\n고등교육법 일부개정법률안\\n\\n고등교육법 일부를 다음과 같이 개정한다.\\n\\n제50조의3을 다음과 같이 신설한다.\\n\\n제50조의3(간호과의 수업연한 및 학위에 관한 특례) ① 대통령령이 정\\n\\n하는 기준을 충족하는 간호과의 수업연한은 4년으로 한다.\\n\\n  ② 제1항의 간호과에서 학칙이 정하는 과정을 이수한 자에 대하여\\n\\n는 학사학위를 수여한다.\\n\\n  ③ 제2항의 학위의 종류 및 수여에 관하여 필요한 사항은 대통령령\\n\\n으로 정한다.\\n\\n부      칙\\n\\n① 이 법은 공포 후 6개월이 경과한 날부터 시행한다.\\n\\n② 이 법 시행 당시 수업연한이 4년으로 된 간호과에 재학 중인 자에 \\n\\n대해서는 본인의 신청에 의하여 종전의 수업연한 및 학위에 관한 규\\n\\n정을 적용할 수 있다.\\n\\n- 3 -\\n\\n\\x0c신·구조문대비표\\n\\n현      행\\n\\n개   정   안\\n\\n  <신  설>\\n\\n제50조의3(간호과의 수업연한 및 \\n\\n학위에 관한 특례) ① 대통령\\n\\n령이 정하는 기준을 충족하는 \\n\\n간호과의 수업연한은 4년으로 \\n\\n한다.\\n\\n  ② 제1항의 간호과에서 학칙이 \\n\\n정하는 과정을 이수한 자에 대\\n\\n하여는 학사학위를 수여한다.\\n\\n  ③ 제2항의 학위의 종류 및 수\\n\\n여에 관하여 필요한 사항은 대\\n\\n통령령으로 정한다.\\n\\n- 5 -\\n\\n\\x0c'"
      ]
     },
     "execution_count": 3,
     "metadata": {},
     "output_type": "execute_result"
    }
   ],
   "source": [
    "# 텍스트 파일 출력\n",
    "doc_ko"
   ]
  },
  {
   "cell_type": "code",
   "execution_count": 4,
   "metadata": {
    "scrolled": true
   },
   "outputs": [
    {
     "name": "stderr",
     "output_type": "stream",
     "text": [
      "C:\\Users\\hys55\\AppData\\Local\\Continuum\\anaconda3\\lib\\site-packages\\konlpy\\tag\\_okt.py:16: UserWarning: \"Twitter\" has changed to \"Okt\" since KoNLPy v0.4.5.\n",
      "  warn('\"Twitter\" has changed to \"Okt\" since KoNLPy v0.4.5.')\n",
      "C:\\Users\\hys55\\AppData\\Local\\Continuum\\anaconda3\\lib\\site-packages\\jpype\\_core.py:210: UserWarning: \n",
      "-------------------------------------------------------------------------------\n",
      "Deprecated: convertStrings was not specified when starting the JVM. The default\n",
      "behavior in JPype will be False starting in JPype 0.8. The recommended setting\n",
      "for new code is convertStrings=False.  The legacy value of True was assumed for\n",
      "this session. If you are a user of an application that reported this warning,\n",
      "please file a ticket with the developer.\n",
      "-------------------------------------------------------------------------------\n",
      "\n",
      "  \"\"\")\n"
     ]
    },
    {
     "data": {
      "text/plain": [
       "['고등',\n",
       " '교육법',\n",
       " '일부',\n",
       " '개정',\n",
       " '법률',\n",
       " '안',\n",
       " '안상수',\n",
       " '의원',\n",
       " '대표',\n",
       " '발의',\n",
       " '의',\n",
       " '안',\n",
       " '번',\n",
       " '호',\n",
       " '발의',\n",
       " '연월일',\n",
       " '발',\n",
       " '의',\n",
       " '자',\n",
       " '안상수',\n",
       " '김정훈',\n",
       " '원희목',\n",
       " '강석호',\n",
       " '서상기',\n",
       " '나성린',\n",
       " '권영진',\n",
       " '이춘식',\n",
       " '정영희',\n",
       " '이애주',\n",
       " '안형환',\n",
       " '백성운',\n",
       " '김금래',\n",
       " '의원',\n",
       " '인',\n",
       " '제안',\n",
       " '이유',\n",
       " '및',\n",
       " '내용',\n",
       " '현재',\n",
       " '간호사',\n",
       " '경우',\n",
       " '전문',\n",
       " '대학',\n",
       " '졸업',\n",
       " '대학',\n",
       " '졸업',\n",
       " '면',\n",
       " '증',\n",
       " '취득',\n",
       " '수',\n",
       " '학위',\n",
       " '종류',\n",
       " '문학사',\n",
       " '이기',\n",
       " '때문',\n",
       " '학',\n",
       " '사학',\n",
       " '위',\n",
       " '취득',\n",
       " '위',\n",
       " '별도',\n",
       " '학사',\n",
       " '학위',\n",
       " '교육과정',\n",
       " '이수',\n",
       " '실정',\n",
       " '임',\n",
       " '간호',\n",
       " '교육',\n",
       " '필요성',\n",
       " '선진',\n",
       " '각국',\n",
       " '경향',\n",
       " '고려',\n",
       " '국민',\n",
       " '대한',\n",
       " '나은',\n",
       " '의료',\n",
       " '서비스',\n",
       " '제공',\n",
       " '위',\n",
       " '대통령령',\n",
       " '정',\n",
       " '기준',\n",
       " '충족',\n",
       " '간호',\n",
       " '과',\n",
       " '대해',\n",
       " '수업',\n",
       " '연한',\n",
       " '로',\n",
       " '수여',\n",
       " '학위',\n",
       " '종류',\n",
       " '학사',\n",
       " '학위',\n",
       " '함',\n",
       " '안',\n",
       " '제',\n",
       " '신설',\n",
       " '법률',\n",
       " '제',\n",
       " '호',\n",
       " '고등',\n",
       " '교육법',\n",
       " '일부',\n",
       " '개정',\n",
       " '법률',\n",
       " '안',\n",
       " '고등',\n",
       " '교육법',\n",
       " '일부',\n",
       " '다음',\n",
       " '개정',\n",
       " '제',\n",
       " '다음',\n",
       " '신설',\n",
       " '제',\n",
       " '간호',\n",
       " '수업',\n",
       " '연한',\n",
       " '및',\n",
       " '학위',\n",
       " '관',\n",
       " '특례',\n",
       " '대통령령',\n",
       " '정',\n",
       " '기준',\n",
       " '충족',\n",
       " '간호',\n",
       " '수업',\n",
       " '연한',\n",
       " '제',\n",
       " '항의',\n",
       " '간호',\n",
       " '과',\n",
       " '학칙',\n",
       " '정',\n",
       " '과정',\n",
       " '이수',\n",
       " '자',\n",
       " '대하',\n",
       " '학사',\n",
       " '학위',\n",
       " '수여',\n",
       " '제',\n",
       " '항의',\n",
       " '학위',\n",
       " '종류',\n",
       " '및',\n",
       " '수여',\n",
       " '관',\n",
       " '사항',\n",
       " '대통령령',\n",
       " '정',\n",
       " '부',\n",
       " '칙',\n",
       " '이',\n",
       " '법',\n",
       " '공포',\n",
       " '후',\n",
       " '개월',\n",
       " '경과',\n",
       " '날',\n",
       " '시행',\n",
       " '이',\n",
       " '법',\n",
       " '시행',\n",
       " '당시',\n",
       " '수업',\n",
       " '연한',\n",
       " '간호',\n",
       " '과',\n",
       " '재학',\n",
       " '중인',\n",
       " '자',\n",
       " '대해',\n",
       " '본인',\n",
       " '신청',\n",
       " '종전',\n",
       " '수업',\n",
       " '연한',\n",
       " '및',\n",
       " '학위',\n",
       " '관',\n",
       " '규',\n",
       " '정',\n",
       " '적용',\n",
       " '수',\n",
       " '신',\n",
       " '구조',\n",
       " '문대비',\n",
       " '표',\n",
       " '현',\n",
       " '행',\n",
       " '개',\n",
       " '정',\n",
       " '안',\n",
       " '신',\n",
       " '설',\n",
       " '제',\n",
       " '간호',\n",
       " '수업',\n",
       " '연한',\n",
       " '및',\n",
       " '학위',\n",
       " '관',\n",
       " '특례',\n",
       " '대통령',\n",
       " '령',\n",
       " '정',\n",
       " '기준',\n",
       " '충족',\n",
       " '간호',\n",
       " '수업',\n",
       " '연한',\n",
       " '제',\n",
       " '항의',\n",
       " '간호',\n",
       " '과',\n",
       " '학칙',\n",
       " '정',\n",
       " '과정',\n",
       " '이수',\n",
       " '자',\n",
       " '학사',\n",
       " '학위',\n",
       " '수여',\n",
       " '제',\n",
       " '항의',\n",
       " '학위',\n",
       " '종류',\n",
       " '및',\n",
       " '수',\n",
       " '여',\n",
       " '관',\n",
       " '사항',\n",
       " '통령',\n",
       " '령',\n",
       " '정']"
      ]
     },
     "execution_count": 4,
     "metadata": {},
     "output_type": "execute_result"
    }
   ],
   "source": [
    "from konlpy.tag import Twitter\n",
    "t = Twitter()\n",
    "\n",
    "# 명사만 출력\n",
    "tokens_ko  = t.nouns(doc_ko)\n",
    "tokens_ko"
   ]
  },
  {
   "cell_type": "code",
   "execution_count": 5,
   "metadata": {},
   "outputs": [],
   "source": [
    "# 텍스트 이름 수정\n",
    "ko = nltk.Text(tokens_ko, name='고등교육법 제정 제 1809894호')"
   ]
  },
  {
   "cell_type": "code",
   "execution_count": 6,
   "metadata": {},
   "outputs": [
    {
     "name": "stdout",
     "output_type": "stream",
     "text": [
      "240\n",
      "121\n"
     ]
    },
    {
     "data": {
      "text/plain": [
       "FreqDist({'학위': 11, '간호': 9, '정': 9, '제': 9, '수업': 7, '연한': 7, '및': 6, '안': 5, '관': 5, '자': 4, ...})"
      ]
     },
     "execution_count": 6,
     "metadata": {},
     "output_type": "execute_result"
    }
   ],
   "source": [
    "# 토큰의 숫자, 최초 출현 토큰 숫자 출력\n",
    "print(len(ko.tokens))           \n",
    "print(len(set(ko.tokens)))   \n",
    "ko.vocab()  "
   ]
  },
  {
   "cell_type": "code",
   "execution_count": 7,
   "metadata": {},
   "outputs": [
    {
     "data": {
      "image/png": "[encoded data removed]",
      "text/plain": [
       "<Figure size 864x432 with 1 Axes>"
      ]
     },
     "metadata": {
      "needs_background": "light"
     },
     "output_type": "display_data"
    }
   ],
   "source": [
    "# 단어 빈도 출력\n",
    "plt.figure(figsize=(12,6))\n",
    "ko.plot(50)\n",
    "plt.show()"
   ]
  },
  {
   "cell_type": "code",
   "execution_count": 8,
   "metadata": {},
   "outputs": [
    {
     "data": {
      "text/plain": [
       "3"
      ]
     },
     "execution_count": 8,
     "metadata": {},
     "output_type": "execute_result"
    }
   ],
   "source": [
    "# '고등' 이라는 단어가 몇 번 나왔는지 확인\n",
    "ko.count('고등')"
   ]
  },
  {
   "cell_type": "code",
   "execution_count": 9,
   "metadata": {},
   "outputs": [
    {
     "data": {
      "image/png": "[encoded data removed]",
      "text/plain": [
       "<Figure size 864x432 with 1 Axes>"
      ]
     },
     "metadata": {
      "needs_background": "light"
     },
     "output_type": "display_data"
    }
   ],
   "source": [
    "# 특정 단어들이 어디에 몇번이나 출현했는지 알아보는 그래프\n",
    "plt.figure(figsize=(12,6))\n",
    "ko.dispersion_plot(['고등', '교육', '간호'])"
   ]
  },
  {
   "cell_type": "code",
   "execution_count": 10,
   "metadata": {},
   "outputs": [
    {
     "name": "stdout",
     "output_type": "stream",
     "text": [
      "Displaying 9 of 9 matches:\n",
      " 때문 학 사학 위 취득 위 별도 학사 학위 교육과정 이수 실정 임 간호 교육 필요성 선진 각국 경향 고려 국민 대한 나은 의료 서비스 제공\n",
      " 고려 국민 대한 나은 의료 서비스 제공 위 대통령령 정 기준 충족 간호 과 대해 수업 연한 로 수여 학위 종류 학사 학위 함 안 제 신설 \n",
      " 일부 개정 법률 안 고등 교육법 일부 다음 개정 제 다음 신설 제 간호 수업 연한 및 학위 관 특례 대통령령 정 기준 충족 간호 수업 연한\n",
      " 신설 제 간호 수업 연한 및 학위 관 특례 대통령령 정 기준 충족 간호 수업 연한 제 항의 간호 과 학칙 정 과정 이수 자 대하 학사 학위\n",
      " 및 학위 관 특례 대통령령 정 기준 충족 간호 수업 연한 제 항의 간호 과 학칙 정 과정 이수 자 대하 학사 학위 수여 제 항의 학위 종류\n",
      "칙 이 법 공포 후 개월 경과 날 시행 이 법 시행 당시 수업 연한 간호 과 재학 중인 자 대해 본인 신청 종전 수업 연한 및 학위 관 규 \n",
      "관 규 정 적용 수 신 구조 문대비 표 현 행 개 정 안 신 설 제 간호 수업 연한 및 학위 관 특례 대통령 령 정 기준 충족 간호 수업 연\n",
      " 설 제 간호 수업 연한 및 학위 관 특례 대통령 령 정 기준 충족 간호 수업 연한 제 항의 간호 과 학칙 정 과정 이수 자 학사 학위 수여\n",
      "및 학위 관 특례 대통령 령 정 기준 충족 간호 수업 연한 제 항의 간호 과 학칙 정 과정 이수 자 학사 학위 수여 제 항의 학위 종류 및 \n"
     ]
    }
   ],
   "source": [
    "# '간호'와 같이 나온 주변 단어들 출력\n",
    "ko.concordance('간호')"
   ]
  },
  {
   "cell_type": "code",
   "execution_count": 14,
   "metadata": {},
   "outputs": [
    {
     "name": "stdout",
     "output_type": "stream",
     "text": [
      "showing info https://raw.githubusercontent.com/nltk/nltk_data/gh-pages/index.xml\n"
     ]
    },
    {
     "data": {
      "text/plain": [
       "True"
      ]
     },
     "execution_count": 14,
     "metadata": {},
     "output_type": "execute_result"
    }
   ],
   "source": [
    "import nltk\n",
    "nltk.download()"
   ]
  },
  {
   "cell_type": "code",
   "execution_count": null,
   "metadata": {},
   "outputs": [],
   "source": []
  },
  {
   "cell_type": "code",
   "execution_count": 15,
   "metadata": {
    "scrolled": true
   },
   "outputs": [
    {
     "name": "stdout",
     "output_type": "stream",
     "text": [
      "\n"
     ]
    }
   ],
   "source": [
    "# 연어 출력\n",
    "ko.collocations()"
   ]
  },
  {
   "cell_type": "code",
   "execution_count": 26,
   "metadata": {},
   "outputs": [
    {
     "data": {
      "image/png": "[encoded data removed]",
      "text/plain": [
       "<Figure size 864x576 with 1 Axes>"
      ]
     },
     "metadata": {
      "needs_background": "light"
     },
     "output_type": "display_data"
    }
   ],
   "source": [
    "data = ko.vocab().most_common(150)\n",
    "\n",
    "# c:/Windows/Fonts/malgun.ttf\n",
    "# 위에서 정제한 단어들을 그림으로 출력\n",
    "wordcloud = WordCloud(font_path='c:/Windows/Fonts/malgun.ttf', \n",
    "                      relative_scaling = 0.2, \n",
    "                      background_color='white').generate_from_frequencies(dict(data))\n",
    "\n",
    "plt.figure(figsize=(12,8))\n",
    "plt.imshow(wordcloud)\n",
    "plt.axis(\"off\")\n",
    "plt.show()"
   ]
  },
  {
   "cell_type": "code",
   "execution_count": 18,
   "metadata": {},
   "outputs": [
    {
     "data": {
      "text/plain": [
       "['C:\\\\Windows\\\\Fonts\\\\arial.ttf',\n",
       " 'C:\\\\Windows\\\\Fonts\\\\arialbd.ttf',\n",
       " 'C:\\\\Windows\\\\Fonts\\\\arialbi.ttf',\n",
       " 'C:\\\\Windows\\\\Fonts\\\\ariali.ttf',\n",
       " 'C:\\\\Windows\\\\Fonts\\\\ariblk.ttf',\n",
       " 'C:\\\\Windows\\\\Fonts\\\\bahnschrift.ttf',\n",
       " 'C:\\\\Windows\\\\Fonts\\\\calibri.ttf',\n",
       " 'C:\\\\Windows\\\\Fonts\\\\calibrib.ttf',\n",
       " 'C:\\\\Windows\\\\Fonts\\\\calibrii.ttf',\n",
       " 'C:\\\\Windows\\\\Fonts\\\\calibril.ttf',\n",
       " 'C:\\\\Windows\\\\Fonts\\\\calibrili.ttf',\n",
       " 'C:\\\\Windows\\\\Fonts\\\\calibriz.ttf',\n",
       " 'C:\\\\Windows\\\\Fonts\\\\cambriab.ttf',\n",
       " 'C:\\\\Windows\\\\Fonts\\\\cambriai.ttf',\n",
       " 'C:\\\\Windows\\\\Fonts\\\\cambriaz.ttf',\n",
       " 'C:\\\\Windows\\\\Fonts\\\\Candara.ttf',\n",
       " 'C:\\\\Windows\\\\Fonts\\\\Candarab.ttf',\n",
       " 'C:\\\\Windows\\\\Fonts\\\\Candarai.ttf',\n",
       " 'C:\\\\Windows\\\\Fonts\\\\Candaraz.ttf',\n",
       " 'C:\\\\Windows\\\\Fonts\\\\comic.ttf',\n",
       " 'C:\\\\Windows\\\\Fonts\\\\comicbd.ttf',\n",
       " 'C:\\\\Windows\\\\Fonts\\\\comici.ttf',\n",
       " 'C:\\\\Windows\\\\Fonts\\\\comicz.ttf',\n",
       " 'C:\\\\Windows\\\\Fonts\\\\consola.ttf',\n",
       " 'C:\\\\Windows\\\\Fonts\\\\consolab.ttf',\n",
       " 'C:\\\\Windows\\\\Fonts\\\\consolai.ttf',\n",
       " 'C:\\\\Windows\\\\Fonts\\\\consolaz.ttf',\n",
       " 'C:\\\\Windows\\\\Fonts\\\\constan.ttf',\n",
       " 'C:\\\\Windows\\\\Fonts\\\\constanb.ttf',\n",
       " 'C:\\\\Windows\\\\Fonts\\\\constani.ttf',\n",
       " 'C:\\\\Windows\\\\Fonts\\\\constanz.ttf',\n",
       " 'C:\\\\Windows\\\\Fonts\\\\corbel.ttf',\n",
       " 'C:\\\\Windows\\\\Fonts\\\\corbelb.ttf',\n",
       " 'C:\\\\Windows\\\\Fonts\\\\corbeli.ttf',\n",
       " 'C:\\\\Windows\\\\Fonts\\\\corbelz.ttf',\n",
       " 'C:\\\\Windows\\\\Fonts\\\\cour.ttf',\n",
       " 'C:\\\\Windows\\\\Fonts\\\\courbd.ttf',\n",
       " 'C:\\\\Windows\\\\Fonts\\\\courbi.ttf',\n",
       " 'C:\\\\Windows\\\\Fonts\\\\couri.ttf',\n",
       " 'C:\\\\Windows\\\\Fonts\\\\ebrima.ttf',\n",
       " 'C:\\\\Windows\\\\Fonts\\\\ebrimabd.ttf',\n",
       " 'C:\\\\Windows\\\\Fonts\\\\framd.ttf',\n",
       " 'C:\\\\Windows\\\\Fonts\\\\framdit.ttf',\n",
       " 'C:\\\\Windows\\\\Fonts\\\\Gabriola.ttf',\n",
       " 'C:\\\\Windows\\\\Fonts\\\\gadugi.ttf',\n",
       " 'C:\\\\Windows\\\\Fonts\\\\gadugib.ttf',\n",
       " 'C:\\\\Windows\\\\Fonts\\\\georgia.ttf',\n",
       " 'C:\\\\Windows\\\\Fonts\\\\georgiab.ttf',\n",
       " 'C:\\\\Windows\\\\Fonts\\\\georgiai.ttf',\n",
       " 'C:\\\\Windows\\\\Fonts\\\\georgiaz.ttf',\n",
       " 'C:\\\\Windows\\\\Fonts\\\\HANBatang.ttf',\n",
       " 'C:\\\\Windows\\\\Fonts\\\\HANBatangB.ttf',\n",
       " 'C:\\\\Windows\\\\Fonts\\\\HANBatangExt.ttf',\n",
       " 'C:\\\\Windows\\\\Fonts\\\\HANBatangExtB.ttf',\n",
       " 'C:\\\\Windows\\\\Fonts\\\\HANBatangExtBB.ttf',\n",
       " 'C:\\\\Windows\\\\Fonts\\\\HANDotum.ttf',\n",
       " 'C:\\\\Windows\\\\Fonts\\\\HANDotumB.ttf',\n",
       " 'C:\\\\Windows\\\\Fonts\\\\HANDotumExt.ttf',\n",
       " 'C:\\\\Windows\\\\Fonts\\\\himalaya.ttf',\n",
       " 'C:\\\\Windows\\\\Fonts\\\\holomdl2.ttf',\n",
       " 'C:\\\\Windows\\\\Fonts\\\\HYHWPEQ.TTF',\n",
       " 'C:\\\\Windows\\\\Fonts\\\\impact.ttf',\n",
       " 'C:\\\\Windows\\\\Fonts\\\\Inkfree.ttf',\n",
       " 'C:\\\\Windows\\\\Fonts\\\\javatext.ttf',\n",
       " 'C:\\\\Windows\\\\Fonts\\\\JUMJA.TTF',\n",
       " 'C:\\\\Windows\\\\Fonts\\\\KBIZ한마음고딕 B.ttf',\n",
       " 'C:\\\\Windows\\\\Fonts\\\\KBIZ한마음고딕 M.ttf',\n",
       " 'C:\\\\Windows\\\\Fonts\\\\KBIZ한마음고딕 R.ttf',\n",
       " 'C:\\\\Windows\\\\Fonts\\\\KBIZ한마음명조 B.ttf',\n",
       " 'C:\\\\Windows\\\\Fonts\\\\KBIZ한마음명조 M.ttf',\n",
       " 'C:\\\\Windows\\\\Fonts\\\\KBIZ한마음명조 R.ttf',\n",
       " 'C:\\\\Windows\\\\Fonts\\\\LeelaUIb.ttf',\n",
       " 'C:\\\\Windows\\\\Fonts\\\\LeelawUI.ttf',\n",
       " 'C:\\\\Windows\\\\Fonts\\\\LeelUIsl.ttf',\n",
       " 'C:\\\\Windows\\\\Fonts\\\\lucon.ttf',\n",
       " 'C:\\\\Windows\\\\Fonts\\\\l_10646.ttf',\n",
       " 'C:\\\\Windows\\\\Fonts\\\\malgun.ttf',\n",
       " 'C:\\\\Windows\\\\Fonts\\\\malgunbd.ttf',\n",
       " 'C:\\\\Windows\\\\Fonts\\\\malgunsl.ttf',\n",
       " 'C:\\\\Windows\\\\Fonts\\\\marlett.ttf',\n",
       " 'C:\\\\Windows\\\\Fonts\\\\MB.TTF',\n",
       " 'C:\\\\Windows\\\\Fonts\\\\MG.TTF',\n",
       " 'C:\\\\Windows\\\\Fonts\\\\MH.TTF',\n",
       " 'C:\\\\Windows\\\\Fonts\\\\micross.ttf',\n",
       " 'C:\\\\Windows\\\\Fonts\\\\MJ.TTF',\n",
       " 'C:\\\\Windows\\\\Fonts\\\\MK.TTF',\n",
       " 'C:\\\\Windows\\\\Fonts\\\\MM.TTF',\n",
       " 'C:\\\\Windows\\\\Fonts\\\\mmrtext.ttf',\n",
       " 'C:\\\\Windows\\\\Fonts\\\\mmrtextb.ttf',\n",
       " 'C:\\\\Windows\\\\Fonts\\\\MN.TTF',\n",
       " 'C:\\\\Windows\\\\Fonts\\\\monbaiti.ttf',\n",
       " 'C:\\\\Windows\\\\Fonts\\\\MP.TTF',\n",
       " 'C:\\\\Windows\\\\Fonts\\\\msyi.ttf',\n",
       " 'C:\\\\Windows\\\\Fonts\\\\MT.TTF',\n",
       " 'C:\\\\Windows\\\\Fonts\\\\mvboli.ttf',\n",
       " 'C:\\\\Windows\\\\Fonts\\\\Nirmala.ttf',\n",
       " 'C:\\\\Windows\\\\Fonts\\\\NirmalaB.ttf',\n",
       " 'C:\\\\Windows\\\\Fonts\\\\NirmalaS.ttf',\n",
       " 'C:\\\\Windows\\\\Fonts\\\\ntailu.ttf',\n",
       " 'C:\\\\Windows\\\\Fonts\\\\ntailub.ttf',\n",
       " 'C:\\\\Windows\\\\Fonts\\\\pala.ttf',\n",
       " 'C:\\\\Windows\\\\Fonts\\\\palab.ttf',\n",
       " 'C:\\\\Windows\\\\Fonts\\\\palabi.ttf',\n",
       " 'C:\\\\Windows\\\\Fonts\\\\palai.ttf',\n",
       " 'C:\\\\Windows\\\\Fonts\\\\phagspa.ttf',\n",
       " 'C:\\\\Windows\\\\Fonts\\\\phagspab.ttf',\n",
       " 'C:\\\\Windows\\\\Fonts\\\\segmdl2.ttf',\n",
       " 'C:\\\\Windows\\\\Fonts\\\\segoepr.ttf',\n",
       " 'C:\\\\Windows\\\\Fonts\\\\segoeprb.ttf',\n",
       " 'C:\\\\Windows\\\\Fonts\\\\segoesc.ttf',\n",
       " 'C:\\\\Windows\\\\Fonts\\\\segoescb.ttf',\n",
       " 'C:\\\\Windows\\\\Fonts\\\\segoeui.ttf',\n",
       " 'C:\\\\Windows\\\\Fonts\\\\segoeuib.ttf',\n",
       " 'C:\\\\Windows\\\\Fonts\\\\segoeuii.ttf',\n",
       " 'C:\\\\Windows\\\\Fonts\\\\segoeuil.ttf',\n",
       " 'C:\\\\Windows\\\\Fonts\\\\segoeuisl.ttf',\n",
       " 'C:\\\\Windows\\\\Fonts\\\\segoeuiz.ttf',\n",
       " 'C:\\\\Windows\\\\Fonts\\\\seguibl.ttf',\n",
       " 'C:\\\\Windows\\\\Fonts\\\\seguibli.ttf',\n",
       " 'C:\\\\Windows\\\\Fonts\\\\seguiemj.ttf',\n",
       " 'C:\\\\Windows\\\\Fonts\\\\seguihis.ttf',\n",
       " 'C:\\\\Windows\\\\Fonts\\\\seguili.ttf',\n",
       " 'C:\\\\Windows\\\\Fonts\\\\seguisb.ttf',\n",
       " 'C:\\\\Windows\\\\Fonts\\\\seguisbi.ttf',\n",
       " 'C:\\\\Windows\\\\Fonts\\\\seguisli.ttf',\n",
       " 'C:\\\\Windows\\\\Fonts\\\\seguisym.ttf',\n",
       " 'C:\\\\Windows\\\\Fonts\\\\simsunb.ttf',\n",
       " 'C:\\\\Windows\\\\Fonts\\\\sylfaen.ttf',\n",
       " 'C:\\\\Windows\\\\Fonts\\\\symbol.ttf',\n",
       " 'C:\\\\Windows\\\\Fonts\\\\tahoma.ttf',\n",
       " 'C:\\\\Windows\\\\Fonts\\\\tahomabd.ttf',\n",
       " 'C:\\\\Windows\\\\Fonts\\\\taile.ttf',\n",
       " 'C:\\\\Windows\\\\Fonts\\\\taileb.ttf',\n",
       " 'C:\\\\Windows\\\\Fonts\\\\times.ttf',\n",
       " 'C:\\\\Windows\\\\Fonts\\\\timesbd.ttf',\n",
       " 'C:\\\\Windows\\\\Fonts\\\\timesbi.ttf',\n",
       " 'C:\\\\Windows\\\\Fonts\\\\timesi.ttf',\n",
       " 'C:\\\\Windows\\\\Fonts\\\\trebuc.ttf',\n",
       " 'C:\\\\Windows\\\\Fonts\\\\trebucbd.ttf',\n",
       " 'C:\\\\Windows\\\\Fonts\\\\trebucbi.ttf',\n",
       " 'C:\\\\Windows\\\\Fonts\\\\trebucit.ttf',\n",
       " 'C:\\\\Windows\\\\Fonts\\\\verdana.ttf',\n",
       " 'C:\\\\Windows\\\\Fonts\\\\verdanab.ttf',\n",
       " 'C:\\\\Windows\\\\Fonts\\\\verdanai.ttf',\n",
       " 'C:\\\\Windows\\\\Fonts\\\\verdanaz.ttf',\n",
       " 'C:\\\\Windows\\\\Fonts\\\\webdings.ttf',\n",
       " 'C:\\\\Windows\\\\Fonts\\\\wingding.ttf']"
      ]
     },
     "execution_count": 18,
     "metadata": {},
     "output_type": "execute_result"
    }
   ],
   "source": [
    "### 폰트로 인해 에러 발생할 때 폰트 종류 확인\n",
    "\n",
    "import glob\n",
    "glob.glob('C:\\Windows\\Fonts\\*.ttf')"
   ]
  },
  {
   "cell_type": "code",
   "execution_count": null,
   "metadata": {},
   "outputs": [],
   "source": []
  }
 ],
 "metadata": {
  "kernelspec": {
   "display_name": "Python 3",
   "language": "python",
   "name": "python3"
  },
  "language_info": {
   "codemirror_mode": {
    "name": "ipython",
    "version": 3
   },
   "file_extension": ".py",
   "mimetype": "text/x-python",
   "name": "python",
   "nbconvert_exporter": "python",
   "pygments_lexer": "ipython3",
   "version": "3.7.3"
  }
 },
 "nbformat": 4,
 "nbformat_minor": 2
}
