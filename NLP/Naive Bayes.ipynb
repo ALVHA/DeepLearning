{
 "cells": [
  {
   "cell_type": "code",
   "execution_count": 1,
   "metadata": {},
   "outputs": [],
   "source": [
    "# 필요 패키지 import, 나이브베이즈\n",
    "from nltk.tokenize import word_tokenize\n",
    "import nltk"
   ]
  },
  {
   "cell_type": "code",
   "execution_count": 2,
   "metadata": {},
   "outputs": [
    {
     "data": {
      "text/plain": [
       "[('I like you', 'pos'),\n",
       " ('I hate you', 'neg'),\n",
       " ('you like me', 'pos'),\n",
       " ('he hates her', 'neg')]"
      ]
     },
     "execution_count": 2,
     "metadata": {},
     "output_type": "execute_result"
    }
   ],
   "source": [
    "# 훈련 세트 넣기 \n",
    "train = [('I like you', 'pos'), ('I hate you', 'neg'), ('you like me', 'pos'), ('he hates her', 'neg')]\n",
    "train"
   ]
  },
  {
   "cell_type": "code",
   "execution_count": 3,
   "metadata": {},
   "outputs": [
    {
     "data": {
      "text/plain": [
       "{'hate', 'hates', 'he', 'her', 'i', 'like', 'me', 'you'}"
      ]
     },
     "execution_count": 3,
     "metadata": {},
     "output_type": "execute_result"
    }
   ],
   "source": [
    "# lower 은 소문자, 나온 단어들 출력\n",
    "all_words = set(word.lower() for sentence in train \n",
    "                                for word in word_tokenize(sentence[0]))\n",
    "all_words"
   ]
  },
  {
   "cell_type": "code",
   "execution_count": 4,
   "metadata": {},
   "outputs": [
    {
     "data": {
      "text/plain": [
       "[({'hates': False,\n",
       "   'hate': False,\n",
       "   'like': True,\n",
       "   'me': False,\n",
       "   'he': False,\n",
       "   'you': True,\n",
       "   'i': False,\n",
       "   'her': False},\n",
       "  'pos'),\n",
       " ({'hates': False,\n",
       "   'hate': True,\n",
       "   'like': False,\n",
       "   'me': False,\n",
       "   'he': False,\n",
       "   'you': True,\n",
       "   'i': False,\n",
       "   'her': False},\n",
       "  'neg'),\n",
       " ({'hates': False,\n",
       "   'hate': False,\n",
       "   'like': True,\n",
       "   'me': True,\n",
       "   'he': False,\n",
       "   'you': True,\n",
       "   'i': False,\n",
       "   'her': False},\n",
       "  'pos'),\n",
       " ({'hates': True,\n",
       "   'hate': False,\n",
       "   'like': False,\n",
       "   'me': False,\n",
       "   'he': True,\n",
       "   'you': False,\n",
       "   'i': False,\n",
       "   'her': True},\n",
       "  'neg')]"
      ]
     },
     "execution_count": 4,
     "metadata": {},
     "output_type": "execute_result"
    }
   ],
   "source": [
    "# 나온 문장에서 단어가 토크나이저에 속한 것인가?\n",
    "t = [({word: (word in word_tokenize(x[0])) for word in all_words}, x[1])\n",
    "                                                for x in train]\n",
    "t"
   ]
  },
  {
   "cell_type": "code",
   "execution_count": 5,
   "metadata": {},
   "outputs": [
    {
     "name": "stdout",
     "output_type": "stream",
     "text": [
      "Most Informative Features\n",
      "                    hate = False             pos : neg    =      1.7 : 1.0\n",
      "                     her = False             pos : neg    =      1.7 : 1.0\n",
      "                      me = False             neg : pos    =      1.7 : 1.0\n",
      "                   hates = False             pos : neg    =      1.7 : 1.0\n",
      "                     you = True              pos : neg    =      1.7 : 1.0\n",
      "                      he = False             pos : neg    =      1.7 : 1.0\n",
      "                       i = False             neg : pos    =      1.0 : 1.0\n"
     ]
    }
   ],
   "source": [
    "# 나이브 베이즈 필터를 적용해서 각 단어들의 긍부정 비율 알아보기\n",
    "classifier = nltk.NaiveBayesClassifier.train(t)\n",
    "classifier.show_most_informative_features()"
   ]
  },
  {
   "cell_type": "code",
   "execution_count": 6,
   "metadata": {},
   "outputs": [
    {
     "data": {
      "text/plain": [
       "{'hates': False,\n",
       " 'hate': False,\n",
       " 'like': True,\n",
       " 'me': False,\n",
       " 'he': False,\n",
       " 'you': False,\n",
       " 'i': True,\n",
       " 'her': False}"
      ]
     },
     "execution_count": 6,
     "metadata": {},
     "output_type": "execute_result"
    }
   ],
   "source": [
    "# test 문장을 넣어서 training 문장에 있던 단어들과 비교해 있었는지 없었는지 판별(T = 있음 / F = 없음)\n",
    "test_sentence = 'i like MeRui'\n",
    "test_sent_features = {word.lower(): \n",
    "                                          (word in word_tokenize(test_sentence.lower()))\n",
    "                                           for word in all_words}\n",
    "test_sent_features"
   ]
  },
  {
   "cell_type": "code",
   "execution_count": 7,
   "metadata": {},
   "outputs": [
    {
     "data": {
      "text/plain": [
       "'pos'"
      ]
     },
     "execution_count": 7,
     "metadata": {},
     "output_type": "execute_result"
    }
   ],
   "source": [
    "# test 문장의 긍/부정 결과\n",
    "classifier.classify(test_sent_features)"
   ]
  },
  {
   "cell_type": "markdown",
   "metadata": {},
   "source": [
    "#### - Navie Bayes Classifier의 이해(한글)"
   ]
  },
  {
   "cell_type": "code",
   "execution_count": 8,
   "metadata": {},
   "outputs": [],
   "source": [
    "from konlpy.tag import Twitter"
   ]
  },
  {
   "cell_type": "code",
   "execution_count": 9,
   "metadata": {},
   "outputs": [
    {
     "name": "stderr",
     "output_type": "stream",
     "text": [
      "C:\\Users\\hys55\\AppData\\Local\\Continuum\\anaconda3\\lib\\site-packages\\konlpy\\tag\\_okt.py:16: UserWarning: \"Twitter\" has changed to \"Okt\" since KoNLPy v0.4.5.\n",
      "  warn('\"Twitter\" has changed to \"Okt\" since KoNLPy v0.4.5.')\n",
      "C:\\Users\\hys55\\AppData\\Local\\Continuum\\anaconda3\\lib\\site-packages\\jpype\\_core.py:210: UserWarning: \n",
      "-------------------------------------------------------------------------------\n",
      "Deprecated: convertStrings was not specified when starting the JVM. The default\n",
      "behavior in JPype will be False starting in JPype 0.8. The recommended setting\n",
      "for new code is convertStrings=False.  The legacy value of True was assumed for\n",
      "this session. If you are a user of an application that reported this warning,\n",
      "please file a ticket with the developer.\n",
      "-------------------------------------------------------------------------------\n",
      "\n",
      "  \"\"\")\n"
     ]
    }
   ],
   "source": [
    "pos_tagger = Twitter()"
   ]
  },
  {
   "cell_type": "code",
   "execution_count": 11,
   "metadata": {},
   "outputs": [],
   "source": [
    "# training set\n",
    "train = [('메리가 좋아', 'pos'),\n",
    "         ('고양이도 좋아', 'pos'),\n",
    "         ('그 교수님은 너무 지루해', 'neg'),\n",
    "         ('그녀는 너무 귀여워','pos'),\n",
    "         ('아베 정권은 한국에게 위협이 된다', 'neg'),\n",
    "         ('거짓 언론은 사람들을 선동한다', 'neg'),\n",
    "         ('타인을 괴롭히는 것은 나쁜 짓이다.','neg'),\n",
    "         ('돈을 버는 것은 좋은 일이다', 'pos')]"
   ]
  },
  {
   "cell_type": "code",
   "execution_count": 12,
   "metadata": {},
   "outputs": [
    {
     "data": {
      "text/plain": [
       "{'.',\n",
       " '거짓',\n",
       " '것은',\n",
       " '고양이도',\n",
       " '괴롭히는',\n",
       " '교수님은',\n",
       " '귀여워',\n",
       " '그',\n",
       " '그녀는',\n",
       " '나쁜',\n",
       " '너무',\n",
       " '돈을',\n",
       " '된다',\n",
       " '메리가',\n",
       " '버는',\n",
       " '사람들을',\n",
       " '선동한다',\n",
       " '아베',\n",
       " '언론은',\n",
       " '위협이',\n",
       " '일이다',\n",
       " '정권은',\n",
       " '좋아',\n",
       " '좋은',\n",
       " '지루해',\n",
       " '짓이다',\n",
       " '타인을',\n",
       " '한국에게'}"
      ]
     },
     "execution_count": 12,
     "metadata": {},
     "output_type": "execute_result"
    }
   ],
   "source": [
    "# 문장 안의 단어 분석\n",
    "all_words = set(word.lower() for sentence in train\n",
    "                       for word in word_tokenize(sentence[0]))\n",
    "all_words"
   ]
  },
  {
   "cell_type": "code",
   "execution_count": 13,
   "metadata": {},
   "outputs": [
    {
     "data": {
      "text/plain": [
       "[({'괴롭히는': False,\n",
       "   '거짓': False,\n",
       "   '선동한다': False,\n",
       "   '그녀는': False,\n",
       "   '된다': False,\n",
       "   '사람들을': False,\n",
       "   '것은': False,\n",
       "   '짓이다': False,\n",
       "   '일이다': False,\n",
       "   '그': False,\n",
       "   '좋은': False,\n",
       "   '.': False,\n",
       "   '지루해': False,\n",
       "   '아베': False,\n",
       "   '너무': False,\n",
       "   '나쁜': False,\n",
       "   '정권은': False,\n",
       "   '메리가': True,\n",
       "   '타인을': False,\n",
       "   '돈을': False,\n",
       "   '좋아': True,\n",
       "   '귀여워': False,\n",
       "   '한국에게': False,\n",
       "   '언론은': False,\n",
       "   '위협이': False,\n",
       "   '고양이도': False,\n",
       "   '교수님은': False,\n",
       "   '버는': False},\n",
       "  'pos'),\n",
       " ({'괴롭히는': False,\n",
       "   '거짓': False,\n",
       "   '선동한다': False,\n",
       "   '그녀는': False,\n",
       "   '된다': False,\n",
       "   '사람들을': False,\n",
       "   '것은': False,\n",
       "   '짓이다': False,\n",
       "   '일이다': False,\n",
       "   '그': False,\n",
       "   '좋은': False,\n",
       "   '.': False,\n",
       "   '지루해': False,\n",
       "   '아베': False,\n",
       "   '너무': False,\n",
       "   '나쁜': False,\n",
       "   '정권은': False,\n",
       "   '메리가': False,\n",
       "   '타인을': False,\n",
       "   '돈을': False,\n",
       "   '좋아': True,\n",
       "   '귀여워': False,\n",
       "   '한국에게': False,\n",
       "   '언론은': False,\n",
       "   '위협이': False,\n",
       "   '고양이도': True,\n",
       "   '교수님은': False,\n",
       "   '버는': False},\n",
       "  'pos'),\n",
       " ({'괴롭히는': False,\n",
       "   '거짓': False,\n",
       "   '선동한다': False,\n",
       "   '그녀는': False,\n",
       "   '된다': False,\n",
       "   '사람들을': False,\n",
       "   '것은': False,\n",
       "   '짓이다': False,\n",
       "   '일이다': False,\n",
       "   '그': True,\n",
       "   '좋은': False,\n",
       "   '.': False,\n",
       "   '지루해': True,\n",
       "   '아베': False,\n",
       "   '너무': True,\n",
       "   '나쁜': False,\n",
       "   '정권은': False,\n",
       "   '메리가': False,\n",
       "   '타인을': False,\n",
       "   '돈을': False,\n",
       "   '좋아': False,\n",
       "   '귀여워': False,\n",
       "   '한국에게': False,\n",
       "   '언론은': False,\n",
       "   '위협이': False,\n",
       "   '고양이도': False,\n",
       "   '교수님은': True,\n",
       "   '버는': False},\n",
       "  'neg'),\n",
       " ({'괴롭히는': False,\n",
       "   '거짓': False,\n",
       "   '선동한다': False,\n",
       "   '그녀는': True,\n",
       "   '된다': False,\n",
       "   '사람들을': False,\n",
       "   '것은': False,\n",
       "   '짓이다': False,\n",
       "   '일이다': False,\n",
       "   '그': False,\n",
       "   '좋은': False,\n",
       "   '.': False,\n",
       "   '지루해': False,\n",
       "   '아베': False,\n",
       "   '너무': True,\n",
       "   '나쁜': False,\n",
       "   '정권은': False,\n",
       "   '메리가': False,\n",
       "   '타인을': False,\n",
       "   '돈을': False,\n",
       "   '좋아': False,\n",
       "   '귀여워': True,\n",
       "   '한국에게': False,\n",
       "   '언론은': False,\n",
       "   '위협이': False,\n",
       "   '고양이도': False,\n",
       "   '교수님은': False,\n",
       "   '버는': False},\n",
       "  'pos'),\n",
       " ({'괴롭히는': False,\n",
       "   '거짓': False,\n",
       "   '선동한다': False,\n",
       "   '그녀는': False,\n",
       "   '된다': True,\n",
       "   '사람들을': False,\n",
       "   '것은': False,\n",
       "   '짓이다': False,\n",
       "   '일이다': False,\n",
       "   '그': False,\n",
       "   '좋은': False,\n",
       "   '.': False,\n",
       "   '지루해': False,\n",
       "   '아베': True,\n",
       "   '너무': False,\n",
       "   '나쁜': False,\n",
       "   '정권은': True,\n",
       "   '메리가': False,\n",
       "   '타인을': False,\n",
       "   '돈을': False,\n",
       "   '좋아': False,\n",
       "   '귀여워': False,\n",
       "   '한국에게': True,\n",
       "   '언론은': False,\n",
       "   '위협이': True,\n",
       "   '고양이도': False,\n",
       "   '교수님은': False,\n",
       "   '버는': False},\n",
       "  'neg'),\n",
       " ({'괴롭히는': False,\n",
       "   '거짓': True,\n",
       "   '선동한다': True,\n",
       "   '그녀는': False,\n",
       "   '된다': False,\n",
       "   '사람들을': True,\n",
       "   '것은': False,\n",
       "   '짓이다': False,\n",
       "   '일이다': False,\n",
       "   '그': False,\n",
       "   '좋은': False,\n",
       "   '.': False,\n",
       "   '지루해': False,\n",
       "   '아베': False,\n",
       "   '너무': False,\n",
       "   '나쁜': False,\n",
       "   '정권은': False,\n",
       "   '메리가': False,\n",
       "   '타인을': False,\n",
       "   '돈을': False,\n",
       "   '좋아': False,\n",
       "   '귀여워': False,\n",
       "   '한국에게': False,\n",
       "   '언론은': True,\n",
       "   '위협이': False,\n",
       "   '고양이도': False,\n",
       "   '교수님은': False,\n",
       "   '버는': False},\n",
       "  'neg'),\n",
       " ({'괴롭히는': True,\n",
       "   '거짓': False,\n",
       "   '선동한다': False,\n",
       "   '그녀는': False,\n",
       "   '된다': False,\n",
       "   '사람들을': False,\n",
       "   '것은': True,\n",
       "   '짓이다': True,\n",
       "   '일이다': False,\n",
       "   '그': False,\n",
       "   '좋은': False,\n",
       "   '.': True,\n",
       "   '지루해': False,\n",
       "   '아베': False,\n",
       "   '너무': False,\n",
       "   '나쁜': True,\n",
       "   '정권은': False,\n",
       "   '메리가': False,\n",
       "   '타인을': True,\n",
       "   '돈을': False,\n",
       "   '좋아': False,\n",
       "   '귀여워': False,\n",
       "   '한국에게': False,\n",
       "   '언론은': False,\n",
       "   '위협이': False,\n",
       "   '고양이도': False,\n",
       "   '교수님은': False,\n",
       "   '버는': False},\n",
       "  'neg'),\n",
       " ({'괴롭히는': False,\n",
       "   '거짓': False,\n",
       "   '선동한다': False,\n",
       "   '그녀는': False,\n",
       "   '된다': False,\n",
       "   '사람들을': False,\n",
       "   '것은': True,\n",
       "   '짓이다': False,\n",
       "   '일이다': True,\n",
       "   '그': False,\n",
       "   '좋은': True,\n",
       "   '.': False,\n",
       "   '지루해': False,\n",
       "   '아베': False,\n",
       "   '너무': False,\n",
       "   '나쁜': False,\n",
       "   '정권은': False,\n",
       "   '메리가': False,\n",
       "   '타인을': False,\n",
       "   '돈을': True,\n",
       "   '좋아': False,\n",
       "   '귀여워': False,\n",
       "   '한국에게': False,\n",
       "   '언론은': False,\n",
       "   '위협이': False,\n",
       "   '고양이도': False,\n",
       "   '교수님은': False,\n",
       "   '버는': True},\n",
       "  'pos')]"
      ]
     },
     "execution_count": 13,
     "metadata": {},
     "output_type": "execute_result"
    }
   ],
   "source": [
    "# 단어들의 출현 비교 검사\n",
    "t = [({word: (word in word_tokenize(x[0])) for word in all_words}, x[1])\n",
    "                                                        for x in train]\n",
    "t\n"
   ]
  },
  {
   "cell_type": "code",
   "execution_count": 14,
   "metadata": {},
   "outputs": [
    {
     "name": "stdout",
     "output_type": "stream",
     "text": [
      "Most Informative Features\n",
      "                      좋아 = False             neg : pos    =      1.8 : 1.0\n",
      "                       . = False             pos : neg    =      1.3 : 1.0\n",
      "                      버는 = False             neg : pos    =      1.3 : 1.0\n",
      "                     짓이다 = False             pos : neg    =      1.3 : 1.0\n",
      "                    고양이도 = False             neg : pos    =      1.3 : 1.0\n",
      "                      된다 = False             pos : neg    =      1.3 : 1.0\n",
      "                    한국에게 = False             pos : neg    =      1.3 : 1.0\n",
      "                     정권은 = False             pos : neg    =      1.3 : 1.0\n",
      "                       그 = False             pos : neg    =      1.3 : 1.0\n",
      "                      좋은 = False             neg : pos    =      1.3 : 1.0\n"
     ]
    }
   ],
   "source": [
    "# 나이브 베이즈 필터를 적용하여 단어들의 긍/부정 비율을 알아낸다.\n",
    "classifier = nltk.NaiveBayesClassifier.train(t)\n",
    "classifier.show_most_informative_features()"
   ]
  },
  {
   "cell_type": "code",
   "execution_count": 15,
   "metadata": {},
   "outputs": [],
   "source": [
    "# test 문장\n",
    "test_sentence = '아베 정권은 사람들을 선동하여 한국을 괴롭힌다.'"
   ]
  },
  {
   "cell_type": "code",
   "execution_count": 16,
   "metadata": {},
   "outputs": [
    {
     "data": {
      "text/plain": [
       "{'괴롭히는': False,\n",
       " '거짓': False,\n",
       " '선동한다': False,\n",
       " '그녀는': False,\n",
       " '된다': False,\n",
       " '사람들을': True,\n",
       " '것은': False,\n",
       " '짓이다': False,\n",
       " '일이다': False,\n",
       " '그': False,\n",
       " '좋은': False,\n",
       " '.': True,\n",
       " '지루해': False,\n",
       " '아베': True,\n",
       " '너무': False,\n",
       " '나쁜': False,\n",
       " '정권은': True,\n",
       " '메리가': False,\n",
       " '타인을': False,\n",
       " '돈을': False,\n",
       " '좋아': False,\n",
       " '귀여워': False,\n",
       " '한국에게': False,\n",
       " '언론은': False,\n",
       " '위협이': False,\n",
       " '고양이도': False,\n",
       " '교수님은': False,\n",
       " '버는': False}"
      ]
     },
     "execution_count": 16,
     "metadata": {},
     "output_type": "execute_result"
    }
   ],
   "source": [
    "# test 문장 적용하여 문장 내에 어떤 단어가 사용되었는지 알 수 있다.\n",
    "test_sent_features = {word.lower(): \n",
    "                                          (word in word_tokenize(test_sentence.lower()))\n",
    "                                           for word in all_words}\n",
    "test_sent_features"
   ]
  },
  {
   "cell_type": "code",
   "execution_count": 17,
   "metadata": {},
   "outputs": [
    {
     "data": {
      "text/plain": [
       "'neg'"
      ]
     },
     "execution_count": 17,
     "metadata": {},
     "output_type": "execute_result"
    }
   ],
   "source": [
    "classifier.classify(test_sent_features)"
   ]
  },
  {
   "cell_type": "code",
   "execution_count": 18,
   "metadata": {},
   "outputs": [],
   "source": [
    "# 토큰나이즈 할 함수를 만든다. \n",
    "def tokenize(doc):\n",
    "    # 품사 별로 단어를 나누고 기본형으로 단어를 출력\n",
    "    return ['/'.join(t) for t in pos_tagger.pos(doc, norm=True, stem=True)]"
   ]
  },
  {
   "cell_type": "code",
   "execution_count": 19,
   "metadata": {},
   "outputs": [
    {
     "data": {
      "text/plain": [
       "[(['메리/Noun', '가/Josa', '좋다/Adjective'], 'pos'),\n",
       " (['고양이/Noun', '도/Josa', '좋다/Adjective'], 'pos'),\n",
       " (['그/Noun', '교수/Noun', '님/Suffix', '은/Josa', '너무/Adverb', '지루하다/Adjective'],\n",
       "  'neg'),\n",
       " (['그녀/Noun', '는/Josa', '너무/Adverb', '귀엽다/Adjective'], 'pos'),\n",
       " (['아베/Noun',\n",
       "   '정권/Noun',\n",
       "   '은/Josa',\n",
       "   '한국/Noun',\n",
       "   '에게/Josa',\n",
       "   '위협/Noun',\n",
       "   '이/Josa',\n",
       "   '되다/Verb'],\n",
       "  'neg'),\n",
       " (['거짓/Noun',\n",
       "   '언론/Noun',\n",
       "   '은/Josa',\n",
       "   '사람/Noun',\n",
       "   '들/Suffix',\n",
       "   '을/Josa',\n",
       "   '선동/Noun',\n",
       "   '하다/Verb'],\n",
       "  'neg'),\n",
       " (['타인/Noun',\n",
       "   '을/Josa',\n",
       "   '괴롭히다/Verb',\n",
       "   '것/Noun',\n",
       "   '은/Josa',\n",
       "   '나쁘다/Adjective',\n",
       "   '짓/Noun',\n",
       "   '이다/Josa',\n",
       "   './Punctuation'],\n",
       "  'neg'),\n",
       " (['돈/Noun',\n",
       "   '을/Josa',\n",
       "   '버/Noun',\n",
       "   '는/Josa',\n",
       "   '것/Noun',\n",
       "   '은/Josa',\n",
       "   '좋다/Adjective',\n",
       "   '일이/Noun',\n",
       "   '다/Josa'],\n",
       "  'pos')]"
      ]
     },
     "execution_count": 19,
     "metadata": {},
     "output_type": "execute_result"
    }
   ],
   "source": [
    "# 문장들을 함수에 넣어 정제한다.\n",
    "train_docs = [(tokenize(row[0]), row[1]) for row in train]\n",
    "train_docs"
   ]
  },
  {
   "cell_type": "code",
   "execution_count": 20,
   "metadata": {},
   "outputs": [
    {
     "data": {
      "text/plain": [
       "['메리/Noun',\n",
       " '가/Josa',\n",
       " '좋다/Adjective',\n",
       " '고양이/Noun',\n",
       " '도/Josa',\n",
       " '좋다/Adjective',\n",
       " '그/Noun',\n",
       " '교수/Noun',\n",
       " '님/Suffix',\n",
       " '은/Josa',\n",
       " '너무/Adverb',\n",
       " '지루하다/Adjective',\n",
       " '그녀/Noun',\n",
       " '는/Josa',\n",
       " '너무/Adverb',\n",
       " '귀엽다/Adjective',\n",
       " '아베/Noun',\n",
       " '정권/Noun',\n",
       " '은/Josa',\n",
       " '한국/Noun',\n",
       " '에게/Josa',\n",
       " '위협/Noun',\n",
       " '이/Josa',\n",
       " '되다/Verb',\n",
       " '거짓/Noun',\n",
       " '언론/Noun',\n",
       " '은/Josa',\n",
       " '사람/Noun',\n",
       " '들/Suffix',\n",
       " '을/Josa',\n",
       " '선동/Noun',\n",
       " '하다/Verb',\n",
       " '타인/Noun',\n",
       " '을/Josa',\n",
       " '괴롭히다/Verb',\n",
       " '것/Noun',\n",
       " '은/Josa',\n",
       " '나쁘다/Adjective',\n",
       " '짓/Noun',\n",
       " '이다/Josa',\n",
       " './Punctuation',\n",
       " '돈/Noun',\n",
       " '을/Josa',\n",
       " '버/Noun',\n",
       " '는/Josa',\n",
       " '것/Noun',\n",
       " '은/Josa',\n",
       " '좋다/Adjective',\n",
       " '일이/Noun',\n",
       " '다/Josa']"
      ]
     },
     "execution_count": 20,
     "metadata": {},
     "output_type": "execute_result"
    }
   ],
   "source": [
    "# 리스트 안에 있는 0번째(단어 및 pos) 데이터 전체 출력\n",
    "tokens = [t for d in train_docs for t in d[0]]\n",
    "tokens"
   ]
  },
  {
   "cell_type": "code",
   "execution_count": 21,
   "metadata": {},
   "outputs": [],
   "source": [
    "# 위에서 했던 pos가 된 단어들을 긍/부정을 알아보는 함수 적용\n",
    "def term_exists(doc):\n",
    "    return {word: (word in set(doc)) for word in tokens}"
   ]
  },
  {
   "cell_type": "code",
   "execution_count": 22,
   "metadata": {},
   "outputs": [
    {
     "data": {
      "text/plain": [
       "[({'메리/Noun': True,\n",
       "   '가/Josa': True,\n",
       "   '좋다/Adjective': True,\n",
       "   '고양이/Noun': False,\n",
       "   '도/Josa': False,\n",
       "   '그/Noun': False,\n",
       "   '교수/Noun': False,\n",
       "   '님/Suffix': False,\n",
       "   '은/Josa': False,\n",
       "   '너무/Adverb': False,\n",
       "   '지루하다/Adjective': False,\n",
       "   '그녀/Noun': False,\n",
       "   '는/Josa': False,\n",
       "   '귀엽다/Adjective': False,\n",
       "   '아베/Noun': False,\n",
       "   '정권/Noun': False,\n",
       "   '한국/Noun': False,\n",
       "   '에게/Josa': False,\n",
       "   '위협/Noun': False,\n",
       "   '이/Josa': False,\n",
       "   '되다/Verb': False,\n",
       "   '거짓/Noun': False,\n",
       "   '언론/Noun': False,\n",
       "   '사람/Noun': False,\n",
       "   '들/Suffix': False,\n",
       "   '을/Josa': False,\n",
       "   '선동/Noun': False,\n",
       "   '하다/Verb': False,\n",
       "   '타인/Noun': False,\n",
       "   '괴롭히다/Verb': False,\n",
       "   '것/Noun': False,\n",
       "   '나쁘다/Adjective': False,\n",
       "   '짓/Noun': False,\n",
       "   '이다/Josa': False,\n",
       "   './Punctuation': False,\n",
       "   '돈/Noun': False,\n",
       "   '버/Noun': False,\n",
       "   '일이/Noun': False,\n",
       "   '다/Josa': False},\n",
       "  'pos'),\n",
       " ({'메리/Noun': False,\n",
       "   '가/Josa': False,\n",
       "   '좋다/Adjective': True,\n",
       "   '고양이/Noun': True,\n",
       "   '도/Josa': True,\n",
       "   '그/Noun': False,\n",
       "   '교수/Noun': False,\n",
       "   '님/Suffix': False,\n",
       "   '은/Josa': False,\n",
       "   '너무/Adverb': False,\n",
       "   '지루하다/Adjective': False,\n",
       "   '그녀/Noun': False,\n",
       "   '는/Josa': False,\n",
       "   '귀엽다/Adjective': False,\n",
       "   '아베/Noun': False,\n",
       "   '정권/Noun': False,\n",
       "   '한국/Noun': False,\n",
       "   '에게/Josa': False,\n",
       "   '위협/Noun': False,\n",
       "   '이/Josa': False,\n",
       "   '되다/Verb': False,\n",
       "   '거짓/Noun': False,\n",
       "   '언론/Noun': False,\n",
       "   '사람/Noun': False,\n",
       "   '들/Suffix': False,\n",
       "   '을/Josa': False,\n",
       "   '선동/Noun': False,\n",
       "   '하다/Verb': False,\n",
       "   '타인/Noun': False,\n",
       "   '괴롭히다/Verb': False,\n",
       "   '것/Noun': False,\n",
       "   '나쁘다/Adjective': False,\n",
       "   '짓/Noun': False,\n",
       "   '이다/Josa': False,\n",
       "   './Punctuation': False,\n",
       "   '돈/Noun': False,\n",
       "   '버/Noun': False,\n",
       "   '일이/Noun': False,\n",
       "   '다/Josa': False},\n",
       "  'pos'),\n",
       " ({'메리/Noun': False,\n",
       "   '가/Josa': False,\n",
       "   '좋다/Adjective': False,\n",
       "   '고양이/Noun': False,\n",
       "   '도/Josa': False,\n",
       "   '그/Noun': True,\n",
       "   '교수/Noun': True,\n",
       "   '님/Suffix': True,\n",
       "   '은/Josa': True,\n",
       "   '너무/Adverb': True,\n",
       "   '지루하다/Adjective': True,\n",
       "   '그녀/Noun': False,\n",
       "   '는/Josa': False,\n",
       "   '귀엽다/Adjective': False,\n",
       "   '아베/Noun': False,\n",
       "   '정권/Noun': False,\n",
       "   '한국/Noun': False,\n",
       "   '에게/Josa': False,\n",
       "   '위협/Noun': False,\n",
       "   '이/Josa': False,\n",
       "   '되다/Verb': False,\n",
       "   '거짓/Noun': False,\n",
       "   '언론/Noun': False,\n",
       "   '사람/Noun': False,\n",
       "   '들/Suffix': False,\n",
       "   '을/Josa': False,\n",
       "   '선동/Noun': False,\n",
       "   '하다/Verb': False,\n",
       "   '타인/Noun': False,\n",
       "   '괴롭히다/Verb': False,\n",
       "   '것/Noun': False,\n",
       "   '나쁘다/Adjective': False,\n",
       "   '짓/Noun': False,\n",
       "   '이다/Josa': False,\n",
       "   './Punctuation': False,\n",
       "   '돈/Noun': False,\n",
       "   '버/Noun': False,\n",
       "   '일이/Noun': False,\n",
       "   '다/Josa': False},\n",
       "  'neg'),\n",
       " ({'메리/Noun': False,\n",
       "   '가/Josa': False,\n",
       "   '좋다/Adjective': False,\n",
       "   '고양이/Noun': False,\n",
       "   '도/Josa': False,\n",
       "   '그/Noun': False,\n",
       "   '교수/Noun': False,\n",
       "   '님/Suffix': False,\n",
       "   '은/Josa': False,\n",
       "   '너무/Adverb': True,\n",
       "   '지루하다/Adjective': False,\n",
       "   '그녀/Noun': True,\n",
       "   '는/Josa': True,\n",
       "   '귀엽다/Adjective': True,\n",
       "   '아베/Noun': False,\n",
       "   '정권/Noun': False,\n",
       "   '한국/Noun': False,\n",
       "   '에게/Josa': False,\n",
       "   '위협/Noun': False,\n",
       "   '이/Josa': False,\n",
       "   '되다/Verb': False,\n",
       "   '거짓/Noun': False,\n",
       "   '언론/Noun': False,\n",
       "   '사람/Noun': False,\n",
       "   '들/Suffix': False,\n",
       "   '을/Josa': False,\n",
       "   '선동/Noun': False,\n",
       "   '하다/Verb': False,\n",
       "   '타인/Noun': False,\n",
       "   '괴롭히다/Verb': False,\n",
       "   '것/Noun': False,\n",
       "   '나쁘다/Adjective': False,\n",
       "   '짓/Noun': False,\n",
       "   '이다/Josa': False,\n",
       "   './Punctuation': False,\n",
       "   '돈/Noun': False,\n",
       "   '버/Noun': False,\n",
       "   '일이/Noun': False,\n",
       "   '다/Josa': False},\n",
       "  'pos'),\n",
       " ({'메리/Noun': False,\n",
       "   '가/Josa': False,\n",
       "   '좋다/Adjective': False,\n",
       "   '고양이/Noun': False,\n",
       "   '도/Josa': False,\n",
       "   '그/Noun': False,\n",
       "   '교수/Noun': False,\n",
       "   '님/Suffix': False,\n",
       "   '은/Josa': True,\n",
       "   '너무/Adverb': False,\n",
       "   '지루하다/Adjective': False,\n",
       "   '그녀/Noun': False,\n",
       "   '는/Josa': False,\n",
       "   '귀엽다/Adjective': False,\n",
       "   '아베/Noun': True,\n",
       "   '정권/Noun': True,\n",
       "   '한국/Noun': True,\n",
       "   '에게/Josa': True,\n",
       "   '위협/Noun': True,\n",
       "   '이/Josa': True,\n",
       "   '되다/Verb': True,\n",
       "   '거짓/Noun': False,\n",
       "   '언론/Noun': False,\n",
       "   '사람/Noun': False,\n",
       "   '들/Suffix': False,\n",
       "   '을/Josa': False,\n",
       "   '선동/Noun': False,\n",
       "   '하다/Verb': False,\n",
       "   '타인/Noun': False,\n",
       "   '괴롭히다/Verb': False,\n",
       "   '것/Noun': False,\n",
       "   '나쁘다/Adjective': False,\n",
       "   '짓/Noun': False,\n",
       "   '이다/Josa': False,\n",
       "   './Punctuation': False,\n",
       "   '돈/Noun': False,\n",
       "   '버/Noun': False,\n",
       "   '일이/Noun': False,\n",
       "   '다/Josa': False},\n",
       "  'neg'),\n",
       " ({'메리/Noun': False,\n",
       "   '가/Josa': False,\n",
       "   '좋다/Adjective': False,\n",
       "   '고양이/Noun': False,\n",
       "   '도/Josa': False,\n",
       "   '그/Noun': False,\n",
       "   '교수/Noun': False,\n",
       "   '님/Suffix': False,\n",
       "   '은/Josa': True,\n",
       "   '너무/Adverb': False,\n",
       "   '지루하다/Adjective': False,\n",
       "   '그녀/Noun': False,\n",
       "   '는/Josa': False,\n",
       "   '귀엽다/Adjective': False,\n",
       "   '아베/Noun': False,\n",
       "   '정권/Noun': False,\n",
       "   '한국/Noun': False,\n",
       "   '에게/Josa': False,\n",
       "   '위협/Noun': False,\n",
       "   '이/Josa': False,\n",
       "   '되다/Verb': False,\n",
       "   '거짓/Noun': True,\n",
       "   '언론/Noun': True,\n",
       "   '사람/Noun': True,\n",
       "   '들/Suffix': True,\n",
       "   '을/Josa': True,\n",
       "   '선동/Noun': True,\n",
       "   '하다/Verb': True,\n",
       "   '타인/Noun': False,\n",
       "   '괴롭히다/Verb': False,\n",
       "   '것/Noun': False,\n",
       "   '나쁘다/Adjective': False,\n",
       "   '짓/Noun': False,\n",
       "   '이다/Josa': False,\n",
       "   './Punctuation': False,\n",
       "   '돈/Noun': False,\n",
       "   '버/Noun': False,\n",
       "   '일이/Noun': False,\n",
       "   '다/Josa': False},\n",
       "  'neg'),\n",
       " ({'메리/Noun': False,\n",
       "   '가/Josa': False,\n",
       "   '좋다/Adjective': False,\n",
       "   '고양이/Noun': False,\n",
       "   '도/Josa': False,\n",
       "   '그/Noun': False,\n",
       "   '교수/Noun': False,\n",
       "   '님/Suffix': False,\n",
       "   '은/Josa': True,\n",
       "   '너무/Adverb': False,\n",
       "   '지루하다/Adjective': False,\n",
       "   '그녀/Noun': False,\n",
       "   '는/Josa': False,\n",
       "   '귀엽다/Adjective': False,\n",
       "   '아베/Noun': False,\n",
       "   '정권/Noun': False,\n",
       "   '한국/Noun': False,\n",
       "   '에게/Josa': False,\n",
       "   '위협/Noun': False,\n",
       "   '이/Josa': False,\n",
       "   '되다/Verb': False,\n",
       "   '거짓/Noun': False,\n",
       "   '언론/Noun': False,\n",
       "   '사람/Noun': False,\n",
       "   '들/Suffix': False,\n",
       "   '을/Josa': True,\n",
       "   '선동/Noun': False,\n",
       "   '하다/Verb': False,\n",
       "   '타인/Noun': True,\n",
       "   '괴롭히다/Verb': True,\n",
       "   '것/Noun': True,\n",
       "   '나쁘다/Adjective': True,\n",
       "   '짓/Noun': True,\n",
       "   '이다/Josa': True,\n",
       "   './Punctuation': True,\n",
       "   '돈/Noun': False,\n",
       "   '버/Noun': False,\n",
       "   '일이/Noun': False,\n",
       "   '다/Josa': False},\n",
       "  'neg'),\n",
       " ({'메리/Noun': False,\n",
       "   '가/Josa': False,\n",
       "   '좋다/Adjective': True,\n",
       "   '고양이/Noun': False,\n",
       "   '도/Josa': False,\n",
       "   '그/Noun': False,\n",
       "   '교수/Noun': False,\n",
       "   '님/Suffix': False,\n",
       "   '은/Josa': True,\n",
       "   '너무/Adverb': False,\n",
       "   '지루하다/Adjective': False,\n",
       "   '그녀/Noun': False,\n",
       "   '는/Josa': True,\n",
       "   '귀엽다/Adjective': False,\n",
       "   '아베/Noun': False,\n",
       "   '정권/Noun': False,\n",
       "   '한국/Noun': False,\n",
       "   '에게/Josa': False,\n",
       "   '위협/Noun': False,\n",
       "   '이/Josa': False,\n",
       "   '되다/Verb': False,\n",
       "   '거짓/Noun': False,\n",
       "   '언론/Noun': False,\n",
       "   '사람/Noun': False,\n",
       "   '들/Suffix': False,\n",
       "   '을/Josa': True,\n",
       "   '선동/Noun': False,\n",
       "   '하다/Verb': False,\n",
       "   '타인/Noun': False,\n",
       "   '괴롭히다/Verb': False,\n",
       "   '것/Noun': True,\n",
       "   '나쁘다/Adjective': False,\n",
       "   '짓/Noun': False,\n",
       "   '이다/Josa': False,\n",
       "   './Punctuation': False,\n",
       "   '돈/Noun': True,\n",
       "   '버/Noun': True,\n",
       "   '일이/Noun': True,\n",
       "   '다/Josa': True},\n",
       "  'pos')]"
      ]
     },
     "execution_count": 22,
     "metadata": {},
     "output_type": "execute_result"
    }
   ],
   "source": [
    "# 함수 적용\n",
    "train_xy = [(term_exists(d), c) for d,c in train_docs]\n",
    "train_xy"
   ]
  },
  {
   "cell_type": "code",
   "execution_count": 23,
   "metadata": {},
   "outputs": [],
   "source": [
    "# 위에서 정제된 단어들에 나이브 베이즈 필터 적용\n",
    "classifier = nltk.NaiveBayesClassifier.train(train_xy)"
   ]
  },
  {
   "cell_type": "code",
   "execution_count": 24,
   "metadata": {},
   "outputs": [],
   "source": [
    "# test 문장 \n",
    "test_sentence = [('아베 정권은 사람들을 선동하여 한국을 괴롭힌다.')]"
   ]
  },
  {
   "cell_type": "code",
   "execution_count": 25,
   "metadata": {},
   "outputs": [
    {
     "data": {
      "text/plain": [
       "[('아베', 'Noun'),\n",
       " ('정권', 'Noun'),\n",
       " ('은', 'Josa'),\n",
       " ('사람', 'Noun'),\n",
       " ('들', 'Suffix'),\n",
       " ('을', 'Josa'),\n",
       " ('선동', 'Noun'),\n",
       " ('하여', 'Verb'),\n",
       " ('한국', 'Noun'),\n",
       " ('을', 'Josa'),\n",
       " ('괴롭힌다', 'Verb'),\n",
       " ('.', 'Punctuation')]"
      ]
     },
     "execution_count": 25,
     "metadata": {},
     "output_type": "execute_result"
    }
   ],
   "source": [
    "# test 문장을 넣어서 pos 분석\n",
    "test_docs = pos_tagger.pos(test_sentence[0])\n",
    "test_docs"
   ]
  },
  {
   "cell_type": "code",
   "execution_count": 26,
   "metadata": {},
   "outputs": [
    {
     "name": "stdout",
     "output_type": "stream",
     "text": [
      "Most Informative Features\n",
      "                  은/Josa = True              neg : pos    =      3.0 : 1.0\n",
      "            좋다/Adjective = False             neg : pos    =      3.0 : 1.0\n",
      "                  는/Josa = False             neg : pos    =      1.8 : 1.0\n",
      "                  을/Josa = True              neg : pos    =      1.7 : 1.0\n",
      "                  을/Josa = False             pos : neg    =      1.4 : 1.0\n",
      "          지루하다/Adjective = False             pos : neg    =      1.3 : 1.0\n",
      "                  다/Josa = False             neg : pos    =      1.3 : 1.0\n",
      "                 위협/Noun = False             pos : neg    =      1.3 : 1.0\n",
      "                 하다/Verb = False             pos : neg    =      1.3 : 1.0\n",
      "                들/Suffix = False             pos : neg    =      1.3 : 1.0\n"
     ]
    }
   ],
   "source": [
    "# test문장의 긍부정을 알아본다\n",
    "classifier.show_most_informative_features()"
   ]
  },
  {
   "cell_type": "code",
   "execution_count": 27,
   "metadata": {},
   "outputs": [
    {
     "data": {
      "text/plain": [
       "{('아베', 'Noun'): False,\n",
       " ('정권', 'Noun'): False,\n",
       " ('은', 'Josa'): False,\n",
       " ('사람', 'Noun'): False,\n",
       " ('들', 'Suffix'): False,\n",
       " ('을', 'Josa'): False,\n",
       " ('선동', 'Noun'): False,\n",
       " ('하여', 'Verb'): False,\n",
       " ('한국', 'Noun'): False,\n",
       " ('괴롭힌다', 'Verb'): False,\n",
       " ('.', 'Punctuation'): False}"
      ]
     },
     "execution_count": 27,
     "metadata": {},
     "output_type": "execute_result"
    }
   ],
   "source": [
    "# 위에서 만든 함수에 test 문장을 넣어서 출력\n",
    "test_sent_features = {word: (word in tokens) for word in test_docs}\n",
    "test_sent_features"
   ]
  },
  {
   "cell_type": "code",
   "execution_count": 28,
   "metadata": {},
   "outputs": [
    {
     "data": {
      "text/plain": [
       "'pos'"
      ]
     },
     "execution_count": 28,
     "metadata": {},
     "output_type": "execute_result"
    }
   ],
   "source": [
    "# test 문장의 긍/부정 출력\n",
    "classifier.classify(test_sent_features)"
   ]
  },
  {
   "cell_type": "code",
   "execution_count": 29,
   "metadata": {},
   "outputs": [
    {
     "data": {
      "text/plain": [
       "{('아베', 'Noun'): False,\n",
       " ('정권', 'Noun'): False,\n",
       " ('은', 'Josa'): False,\n",
       " ('사람', 'Noun'): False,\n",
       " ('들', 'Suffix'): False,\n",
       " ('을', 'Josa'): False,\n",
       " ('선동', 'Noun'): False,\n",
       " ('하여', 'Verb'): False,\n",
       " ('한국', 'Noun'): False,\n",
       " ('괴롭힌다', 'Verb'): False,\n",
       " ('.', 'Punctuation'): False}"
      ]
     },
     "execution_count": 29,
     "metadata": {},
     "output_type": "execute_result"
    }
   ],
   "source": [
    "test_sent_features"
   ]
  },
  {
   "cell_type": "code",
   "execution_count": null,
   "metadata": {},
   "outputs": [],
   "source": []
  },
  {
   "cell_type": "code",
   "execution_count": null,
   "metadata": {},
   "outputs": [],
   "source": []
  }
 ],
 "metadata": {
  "kernelspec": {
   "display_name": "Python 3",
   "language": "python",
   "name": "python3"
  },
  "language_info": {
   "codemirror_mode": {
    "name": "ipython",
    "version": 3
   },
   "file_extension": ".py",
   "mimetype": "text/x-python",
   "name": "python",
   "nbconvert_exporter": "python",
   "pygments_lexer": "ipython3",
   "version": "3.7.3"
  }
 },
 "nbformat": 4,
 "nbformat_minor": 2
}
