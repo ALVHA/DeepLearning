{
 "cells": [
  {
   "cell_type": "code",
   "execution_count": 2,
   "metadata": {},
   "outputs": [],
   "source": [
    "# 필요 패키지 import\n",
    "from sklearn.feature_extraction.text import CountVectorizer"
   ]
  },
  {
   "cell_type": "code",
   "execution_count": 3,
   "metadata": {},
   "outputs": [],
   "source": [
    "# 최소 빈도 설정\n",
    "vectorizer = CountVectorizer(min_df = 1)\n"
   ]
  },
  {
   "cell_type": "code",
   "execution_count": 4,
   "metadata": {},
   "outputs": [],
   "source": [
    "# training 문장\n",
    "contents = ['메리랑 놀러가고 싶지만 바쁜데 어떡하죠?',\n",
    "            '메리는 공원에서 산책하고 노는 것을 싫어해요',\n",
    "            '메리는 공원에서 노는 것도 싫어해요. 이상해요',\n",
    "            '먼 곳으로 여행을 떠나고 싶은데 너무 바빠서 그러지 못합니다.']"
   ]
  },
  {
   "cell_type": "code",
   "execution_count": 5,
   "metadata": {},
   "outputs": [
    {
     "data": {
      "text/plain": [
       "['것도',\n",
       " '것을',\n",
       " '곳으로',\n",
       " '공원에서',\n",
       " '그러지',\n",
       " '너무',\n",
       " '노는',\n",
       " '놀러가고',\n",
       " '떠나고',\n",
       " '메리는',\n",
       " '메리랑',\n",
       " '못합니다',\n",
       " '바빠서',\n",
       " '바쁜데',\n",
       " '산책하고',\n",
       " '싫어해요',\n",
       " '싶은데',\n",
       " '싶지만',\n",
       " '어떡하죠',\n",
       " '여행을',\n",
       " '이상해요']"
      ]
     },
     "execution_count": 5,
     "metadata": {},
     "output_type": "execute_result"
    }
   ],
   "source": [
    "# 단어들의 feature 분류\n",
    "X = vectorizer.fit_transform(contents)\n",
    "vectorizer.get_feature_names()"
   ]
  },
  {
   "cell_type": "code",
   "execution_count": 7,
   "metadata": {},
   "outputs": [
    {
     "name": "stderr",
     "output_type": "stream",
     "text": [
      "C:\\Users\\hys55\\AppData\\Local\\Continuum\\anaconda3\\lib\\site-packages\\konlpy\\tag\\_okt.py:16: UserWarning: \"Twitter\" has changed to \"Okt\" since KoNLPy v0.4.5.\n",
      "  warn('\"Twitter\" has changed to \"Okt\" since KoNLPy v0.4.5.')\n",
      "C:\\Users\\hys55\\AppData\\Local\\Continuum\\anaconda3\\lib\\site-packages\\jpype\\_core.py:210: UserWarning: \n",
      "-------------------------------------------------------------------------------\n",
      "Deprecated: convertStrings was not specified when starting the JVM. The default\n",
      "behavior in JPype will be False starting in JPype 0.8. The recommended setting\n",
      "for new code is convertStrings=False.  The legacy value of True was assumed for\n",
      "this session. If you are a user of an application that reported this warning,\n",
      "please file a ticket with the developer.\n",
      "-------------------------------------------------------------------------------\n",
      "\n",
      "  \"\"\")\n"
     ]
    }
   ],
   "source": [
    "from konlpy.tag import Twitter\n",
    "t = Twitter()"
   ]
  },
  {
   "cell_type": "code",
   "execution_count": 8,
   "metadata": {},
   "outputs": [
    {
     "data": {
      "text/plain": [
       "[['메리', '랑', '놀러', '가고', '싶지만', '바쁜데', '어떡하죠', '?'],\n",
       " ['메리', '는', '공원', '에서', '산책', '하고', '노', '는', '것', '을', '싫어해요'],\n",
       " ['메리', '는', '공원', '에서', '노', '는', '것', '도', '싫어해요', '.', '이상해요'],\n",
       " ['먼',\n",
       "  '곳',\n",
       "  '으로',\n",
       "  '여행',\n",
       "  '을',\n",
       "  '떠나고',\n",
       "  '싶은데',\n",
       "  '너무',\n",
       "  '바빠서',\n",
       "  '그러지',\n",
       "  '못',\n",
       "  '합니다',\n",
       "  '.']]"
      ]
     },
     "execution_count": 8,
     "metadata": {},
     "output_type": "execute_result"
    }
   ],
   "source": [
    "contents_token = [t.morphs(row) for row in contents]\n",
    "contents_token"
   ]
  },
  {
   "cell_type": "code",
   "execution_count": 14,
   "metadata": {},
   "outputs": [
    {
     "data": {
      "text/plain": [
       "[' 메리 랑 놀러 가고 싶지만 바쁜데 어떡하죠 ?',\n",
       " ' 메리 는 공원 에서 산책 하고 노 는 것 을 싫어해요',\n",
       " ' 메리 는 공원 에서 노 는 것 도 싫어해요 . 이상해요',\n",
       " ' 먼 곳 으로 여행 을 떠나고 싶은데 너무 바빠서 그러지 못 합니다 .']"
      ]
     },
     "execution_count": 14,
     "metadata": {},
     "output_type": "execute_result"
    }
   ],
   "source": [
    "# 띄워져 있는 단어들을 공백을 사용하여 한 문장으로 길게 편집\n",
    "contents_for_vectorize = []\n",
    "\n",
    "for content in contents_token:\n",
    "    sentence = ''\n",
    "    for word in content:\n",
    "        sentence = sentence + ' ' + word\n",
    "    \n",
    "    contents_for_vectorize.append(sentence)\n",
    "    \n",
    "contents_for_vectorize\n"
   ]
  },
  {
   "cell_type": "code",
   "execution_count": 15,
   "metadata": {},
   "outputs": [
    {
     "data": {
      "text/plain": [
       "(4, 20)"
      ]
     },
     "execution_count": 15,
     "metadata": {},
     "output_type": "execute_result"
    }
   ],
   "source": [
    "# feature 찾기\n",
    "X = vectorizer.fit_transform(contents_for_vectorize)\n",
    "num_samples, num_features = X.shape\n",
    "num_samples, num_features"
   ]
  },
  {
   "cell_type": "code",
   "execution_count": 16,
   "metadata": {},
   "outputs": [
    {
     "data": {
      "text/plain": [
       "['가고',\n",
       " '공원',\n",
       " '그러지',\n",
       " '너무',\n",
       " '놀러',\n",
       " '떠나고',\n",
       " '메리',\n",
       " '바빠서',\n",
       " '바쁜데',\n",
       " '산책',\n",
       " '싫어해요',\n",
       " '싶은데',\n",
       " '싶지만',\n",
       " '어떡하죠',\n",
       " '에서',\n",
       " '여행',\n",
       " '으로',\n",
       " '이상해요',\n",
       " '하고',\n",
       " '합니다']"
      ]
     },
     "execution_count": 16,
     "metadata": {},
     "output_type": "execute_result"
    }
   ],
   "source": [
    "vectorizer.get_feature_names()"
   ]
  },
  {
   "cell_type": "code",
   "execution_count": 17,
   "metadata": {},
   "outputs": [
    {
     "data": {
      "text/plain": [
       "array([[1, 0, 0, 0],\n",
       "       [0, 1, 1, 0],\n",
       "       [0, 0, 0, 1],\n",
       "       [0, 0, 0, 1],\n",
       "       [1, 0, 0, 0],\n",
       "       [0, 0, 0, 1],\n",
       "       [1, 1, 1, 0],\n",
       "       [0, 0, 0, 1],\n",
       "       [1, 0, 0, 0],\n",
       "       [0, 1, 0, 0],\n",
       "       [0, 1, 1, 0],\n",
       "       [0, 0, 0, 1],\n",
       "       [1, 0, 0, 0],\n",
       "       [1, 0, 0, 0],\n",
       "       [0, 1, 1, 0],\n",
       "       [0, 0, 0, 1],\n",
       "       [0, 0, 0, 1],\n",
       "       [0, 0, 1, 0],\n",
       "       [0, 1, 0, 0],\n",
       "       [0, 0, 0, 1]], dtype=int64)"
      ]
     },
     "execution_count": 17,
     "metadata": {},
     "output_type": "execute_result"
    }
   ],
   "source": [
    "# 단어들을 벡터화\n",
    "X.toarray().transpose()"
   ]
  },
  {
   "cell_type": "code",
   "execution_count": 18,
   "metadata": {},
   "outputs": [
    {
     "data": {
      "text/plain": [
       "[' 메리 랑 공원 에서 산책 하고 놀고 싶어요']"
      ]
     },
     "execution_count": 18,
     "metadata": {},
     "output_type": "execute_result"
    }
   ],
   "source": [
    "# 새로운 문장을 학습시키고 위에서 했었던 함수에 적용\n",
    "new_post = ['메리랑 공원에서 산책하고 놀고 싶어요']\n",
    "new_post_tokens = [t.morphs(row) for row in new_post]\n",
    "\n",
    "new_post_for_vectorize = []\n",
    "\n",
    "for content in new_post_tokens:\n",
    "    sentence = ''\n",
    "    for word in content:\n",
    "        sentence = sentence + ' ' + word\n",
    "        \n",
    "    new_post_for_vectorize.append(sentence)\n",
    "    \n",
    "new_post_for_vectorize"
   ]
  },
  {
   "cell_type": "code",
   "execution_count": 19,
   "metadata": {},
   "outputs": [],
   "source": [
    "new_post_vec = vectorizer.transform(new_post_for_vectorize)\n"
   ]
  },
  {
   "cell_type": "code",
   "execution_count": 20,
   "metadata": {},
   "outputs": [
    {
     "data": {
      "text/plain": [
       "array([[0, 1, 0, 0, 0, 0, 1, 0, 0, 1, 0, 0, 0, 0, 1, 0, 0, 0, 1, 0]],\n",
       "      dtype=int64)"
      ]
     },
     "execution_count": 20,
     "metadata": {},
     "output_type": "execute_result"
    }
   ],
   "source": [
    "# 새로운 문장을 벡터화\n",
    "new_post_vec.toarray()"
   ]
  },
  {
   "cell_type": "code",
   "execution_count": 22,
   "metadata": {},
   "outputs": [],
   "source": [
    "import scipy as sp\n",
    "\n",
    "def dist_raw(v1, v2):\n",
    "    delta = v1 - v2\n",
    "    return sp.linalg.norm(delta.toarray())"
   ]
  },
  {
   "cell_type": "code",
   "execution_count": 23,
   "metadata": {},
   "outputs": [
    {
     "name": "stdout",
     "output_type": "stream",
     "text": [
      "== Post 0 with dist =3.00   : 메리랑 놀러가고 싶지만 바쁜데 어떡하죠?\n",
      "== Post 1 with dist =1.00   : 메리는 공원에서 산책하고 노는 것을 싫어해요\n",
      "== Post 2 with dist =2.00   : 메리는 공원에서 노는 것도 싫어해요. 이상해요\n",
      "== Post 3 with dist =3.61   : 먼 곳으로 여행을 떠나고 싶은데 너무 바빠서 그러지 못합니다.\n"
     ]
    }
   ],
   "source": [
    "# 새로운 문장과 원래 문장 간의 거리를 구하는 함수\n",
    "best_doc = None\n",
    "best_dist = 65535\n",
    "best_i  = None\n",
    "\n",
    "for i in range(0, num_samples):\n",
    "    post_vec = X.getrow(i)\n",
    "    d = dist_raw(post_vec, new_post_vec)\n",
    "    \n",
    "    print(\"== Post %i with dist =%.2f   : %s\" %(i, d, contents[i]))\n",
    "    \n",
    "    if d < best_dist:\n",
    "        best_dist = d\n",
    "        best_i = i\n",
    "        \n",
    "        "
   ]
  },
  {
   "cell_type": "code",
   "execution_count": 24,
   "metadata": {},
   "outputs": [
    {
     "name": "stdout",
     "output_type": "stream",
     "text": [
      "Best post is 1, dist = 1.00\n",
      "--> ['메리랑 공원에서 산책하고 놀고 싶어요']\n",
      "----> 메리는 공원에서 산책하고 노는 것을 싫어해요\n"
     ]
    }
   ],
   "source": [
    "# 새로운 문장과 가장 거리가 가까운 문장을 출력\n",
    "print(\"Best post is %i, dist = %.2f\" %(best_i, best_dist))\n",
    "print('-->', new_post)\n",
    "print('---->', contents[best_i])"
   ]
  },
  {
   "cell_type": "code",
   "execution_count": 25,
   "metadata": {},
   "outputs": [
    {
     "name": "stdout",
     "output_type": "stream",
     "text": [
      "[[1 0 0 0 1 0 1 0 1 0 0 0 1 1 0 0 0 0 0 0]]\n",
      "[[0 1 0 0 0 0 1 0 0 1 1 0 0 0 1 0 0 0 1 0]]\n",
      "[[0 1 0 0 0 0 1 0 0 0 1 0 0 0 1 0 0 1 0 0]]\n",
      "[[0 0 1 1 0 1 0 1 0 0 0 1 0 0 0 1 1 0 0 1]]\n",
      "-------------\n",
      "[[0 1 0 0 0 0 1 0 0 1 0 0 0 0 1 0 0 0 1 0]]\n"
     ]
    }
   ],
   "source": [
    "# 벡터화 시킨 것으로 문장비교\n",
    "for i in range(0, len(contents)):\n",
    "    print(X.getrow(i).toarray())\n",
    "    \n",
    "print('-------------')\n",
    "print(new_post_vec.toarray())"
   ]
  },
  {
   "cell_type": "code",
   "execution_count": 28,
   "metadata": {},
   "outputs": [],
   "source": [
    "def dist_norm(v1, v2):\n",
    "    v1_normalized = v1 / sp.linalg.norm(v1.toarray())\n",
    "    v2_normalized = v2 / sp.linalg.norm(v2.toarray())\n",
    "    \n",
    "    delta = v1_normalized - v2_normalized\n",
    "    \n",
    "    return sp.linalg.norm(delta.toarray())"
   ]
  },
  {
   "cell_type": "code",
   "execution_count": 33,
   "metadata": {},
   "outputs": [
    {
     "name": "stdout",
     "output_type": "stream",
     "text": [
      "==Post 0 with dist =1.28 : 메리랑 놀러가고 싶지만 바쁜데 어떡하죠?\n",
      "==Post 1 with dist =0.42 : 메리는 공원에서 산책하고 노는 것을 싫어해요\n",
      "==Post 2 with dist =0.89 : 메리는 공원에서 노는 것도 싫어해요. 이상해요\n",
      "==Post 3 with dist =1.41 : 먼 곳으로 여행을 떠나고 싶은데 너무 바빠서 그러지 못합니다.\n"
     ]
    }
   ],
   "source": [
    "# 거리 구하기\n",
    "best_doc = None\n",
    "best_dist = 65535\n",
    "best_i = None\n",
    "\n",
    "for i in range(0, num_samples):\n",
    "    post_vec = X.getrow(i)\n",
    "    d = dist_norm(post_vec, new_post_vec)\n",
    "    \n",
    "    print(\"==Post %i with dist =%.2f : %s\" %(i,d,contents[i]))\n",
    "    \n",
    "    if d < best_dist:\n",
    "        best_dist = d\n",
    "        best_i  = i"
   ]
  },
  {
   "cell_type": "code",
   "execution_count": 34,
   "metadata": {},
   "outputs": [
    {
     "name": "stdout",
     "output_type": "stream",
     "text": [
      "Best post is 1, dist = 0.42\n",
      "--> ['근처 공원에서 메리랑 놀러가고 싶네요']\n",
      "----> 메리는 공원에서 산책하고 노는 것을 싫어해요\n"
     ]
    }
   ],
   "source": [
    "# 거리가 가장 가까운 문장 출력\n",
    "print(\"Best post is %i, dist = %.2f\" % (best_i, best_dist))\n",
    "print('-->', new_post)\n",
    "print('---->', contents[best_i])"
   ]
  },
  {
   "cell_type": "code",
   "execution_count": 35,
   "metadata": {},
   "outputs": [
    {
     "name": "stdout",
     "output_type": "stream",
     "text": [
      "[[1 0 0 0 1 0 1 0 1 0 0 0 1 1 0 0 0 0 0 0]]\n",
      "[[0 1 0 0 0 0 1 0 0 1 1 0 0 0 1 0 0 0 1 0]]\n",
      "[[0 1 0 0 0 0 1 0 0 0 1 0 0 0 1 0 0 1 0 0]]\n",
      "[[0 0 1 1 0 1 0 1 0 0 0 1 0 0 0 1 1 0 0 1]]\n",
      "---------------------\n",
      "[[0 1 0 0 0 0 1 0 0 1 0 0 0 0 1 0 0 0 1 0]]\n"
     ]
    }
   ],
   "source": [
    "# 벡터화 시킨 것으로 문장을 비교\n",
    "for i in range(0,len(contents)):\n",
    "    print(X.getrow(i).toarray())\n",
    "    \n",
    "print('---------------------')\n",
    "print(new_post_vec.toarray())"
   ]
  },
  {
   "cell_type": "code",
   "execution_count": 37,
   "metadata": {},
   "outputs": [],
   "source": [
    "# 각 벡터를 일반화시키고 거리를 구하는 함수를 만든다.\n",
    "def dist_norm(v1, v2):\n",
    "    v1_normalized = v1 / sp.linalg.norm(v1.toarray())\n",
    "    v2_normalized = v2 / sp.linalg.norm(v2.toarray())\n",
    "    \n",
    "    delta = v1_normalized - v2_normalized\n",
    "    \n",
    "    return sp.linalg.norm(delta.toarray())"
   ]
  },
  {
   "cell_type": "code",
   "execution_count": 38,
   "metadata": {},
   "outputs": [
    {
     "name": "stdout",
     "output_type": "stream",
     "text": [
      "== Post 0 with dist=1.28   : 메리랑 놀러가고 싶지만 바쁜데 어떡하죠?\n",
      "== Post 1 with dist=0.42   : 메리는 공원에서 산책하고 노는 것을 싫어해요\n",
      "== Post 2 with dist=0.89   : 메리는 공원에서 노는 것도 싫어해요. 이상해요\n",
      "== Post 3 with dist=1.41   : 먼 곳으로 여행을 떠나고 싶은데 너무 바빠서 그러지 못합니다.\n"
     ]
    }
   ],
   "source": [
    "# 거리를 구해보자\n",
    "best_doc = None\n",
    "best_dist = 65535\n",
    "best_i = None\n",
    "\n",
    "for i in range(0, num_samples):\n",
    "    post_vec = X.getrow(i)\n",
    "    d = dist_norm(post_vec, new_post_vec)\n",
    "    \n",
    "    print(\"== Post %i with dist=%.2f   : %s\" %(i,d,contents[i]))\n",
    "    \n",
    "    if d<best_dist:\n",
    "        best_dist = d\n",
    "        best_i = i"
   ]
  },
  {
   "cell_type": "code",
   "execution_count": 39,
   "metadata": {},
   "outputs": [],
   "source": [
    "# tf = 단어의 빈도에 따른 중요도\n",
    "# idf = 비교하는 문서에서 같은 단어가 있다면 핵심어휘일지 모르지만, 문서 내에서는 중요 단어가 아니라는 것으로 판별하는 것\n",
    "def tfidf(t, d, D):\n",
    "    tf = float(d.count(t)) / sum(d.count(w) for w in set(d))\n",
    "    idf = sp.log( float(len(D))/(len([doc for doc in D if t in doc])) )\n",
    "    return tf, idf"
   ]
  },
  {
   "cell_type": "code",
   "execution_count": 40,
   "metadata": {},
   "outputs": [
    {
     "name": "stdout",
     "output_type": "stream",
     "text": [
      "(1.0, 0.0)\n",
      "(0.6666666666666666, 0.4054651081081644)\n",
      "(0.3333333333333333, 0.0)\n",
      "(0.3333333333333333, 0.4054651081081644)\n",
      "(0.3333333333333333, 1.0986122886681098)\n"
     ]
    }
   ],
   "source": [
    "## tfidf에 training set을 넣어준다\n",
    "a, abb, abc = ['a'], ['a', 'b', 'b'], ['a', 'b', 'c']\n",
    "D =[a, abb, abc]\n",
    "\n",
    "# a가 모든 set에 나왔기 때문에 1이라고 출력한다\n",
    "print(tfidf('a', a, D))\n",
    "print(tfidf('b', abb, D))\n",
    "print(tfidf('a', abc, D))\n",
    "print(tfidf('b', abc, D))\n",
    "print(tfidf('c', abc, D))"
   ]
  },
  {
   "cell_type": "code",
   "execution_count": 41,
   "metadata": {},
   "outputs": [],
   "source": [
    "# 필요 패키지 import\n",
    "from sklearn.feature_extraction.text import TfidfVectorizer\n",
    "vectorizer = TfidfVectorizer(min_df=1, decode_error='ignore')"
   ]
  },
  {
   "cell_type": "code",
   "execution_count": 42,
   "metadata": {},
   "outputs": [
    {
     "data": {
      "text/plain": [
       "(4, 20)"
      ]
     },
     "execution_count": 42,
     "metadata": {},
     "output_type": "execute_result"
    }
   ],
   "source": [
    "# 단어 형태소 분석\n",
    "contents_token = [t.morphs(row) for row in contents]\n",
    "\n",
    "contents_for_vectorize = []\n",
    "\n",
    "# 띄어쓰기로 구분된 단어를 공백을 사용하여 길게 한줄로 출력\n",
    "for content in contents_token:\n",
    "    sentence = ''\n",
    "    for word in content:\n",
    "        sentence = sentence + ' ' + word\n",
    "        \n",
    "    contents_for_vectorize.append(sentence)\n",
    "    \n",
    "# 단어를 벡터화\n",
    "X = vectorizer.fit_transform(contents_for_vectorize)\n",
    "num_samples, num_features = X.shape\n",
    "num_samples, num_features"
   ]
  },
  {
   "cell_type": "code",
   "execution_count": 43,
   "metadata": {},
   "outputs": [
    {
     "data": {
      "text/plain": [
       "['가고',\n",
       " '공원',\n",
       " '그러지',\n",
       " '너무',\n",
       " '놀러',\n",
       " '떠나고',\n",
       " '메리',\n",
       " '바빠서',\n",
       " '바쁜데',\n",
       " '산책',\n",
       " '싫어해요',\n",
       " '싶은데',\n",
       " '싶지만',\n",
       " '어떡하죠',\n",
       " '에서',\n",
       " '여행',\n",
       " '으로',\n",
       " '이상해요',\n",
       " '하고',\n",
       " '합니다']"
      ]
     },
     "execution_count": 43,
     "metadata": {},
     "output_type": "execute_result"
    }
   ],
   "source": [
    "# 단어의 feature 출력\n",
    "vectorizer.get_feature_names()"
   ]
  },
  {
   "cell_type": "code",
   "execution_count": 32,
   "metadata": {},
   "outputs": [
    {
     "data": {
      "text/plain": [
       "[' 근처 공원 에서 메리 랑 놀러 가고 싶네요']"
      ]
     },
     "execution_count": 32,
     "metadata": {},
     "output_type": "execute_result"
    }
   ],
   "source": [
    "# 새로운 문장 학습\n",
    "new_post = ['근처 공원에서 메리랑 놀러가고 싶네요']\n",
    "new_post_tokens = [t.morphs(row) for row in new_post]\n",
    "\n",
    "new_post_for_vectorize = []\n",
    "\n",
    "# 띄어쓰기로 나누어진 단어를 공백을 사용하여 한 줄로 만들기\n",
    "for content in new_post_tokens:\n",
    "    sentence=  ''\n",
    "    for word in content:\n",
    "        sentence = sentence + ' ' + word\n",
    "        \n",
    "    new_post_for_vectorize.append(sentence)\n",
    "    \n",
    "new_post_for_vectorize"
   ]
  },
  {
   "cell_type": "code",
   "execution_count": 44,
   "metadata": {},
   "outputs": [],
   "source": [
    "# 벡터화\n",
    "new_post_vec = vectorizer.transform(new_post_for_vectorize)\n"
   ]
  },
  {
   "cell_type": "code",
   "execution_count": 45,
   "metadata": {},
   "outputs": [
    {
     "name": "stdout",
     "output_type": "stream",
     "text": [
      "== Post 0 with dist=0.96   : 메리랑 놀러가고 싶지만 바쁜데 어떡하죠?\n",
      "== Post 1 with dist=1.08   : 메리는 공원에서 산책하고 노는 것을 싫어해요\n",
      "== Post 2 with dist=1.02   : 메리는 공원에서 노는 것도 싫어해요. 이상해요\n",
      "== Post 3 with dist=1.41   : 먼 곳으로 여행을 떠나고 싶은데 너무 바빠서 그러지 못합니다.\n",
      "Best post is 0, dist = 0.96\n",
      "--> ['근처 공원에서 메리랑 놀러가고 싶네요']\n",
      "----> 메리랑 놀러가고 싶지만 바쁜데 어떡하죠?\n"
     ]
    }
   ],
   "source": [
    "best_doc = None\n",
    "best_dist = 65535\n",
    "best_i = None\n",
    "\n",
    "# 벡터화시킨 문장을 원래 문장과의 거리를 비교하여 거리를 계산하고 거리가 가까운 문장을 출력한다.\n",
    "for i in range(0, num_samples):\n",
    "    post_vec = X.getrow(i)\n",
    "    d = dist_norm(post_vec, new_post_vec)\n",
    "    \n",
    "    print(\"== Post %i with dist=%.2f   : %s\" %(i,d,contents[i]))\n",
    "    \n",
    "    if d<best_dist:\n",
    "        best_dist = d\n",
    "        best_i = i\n",
    "        \n",
    "print(\"Best post is %i, dist = %.2f\" % (best_i, best_dist))\n",
    "print('-->', new_post)\n",
    "print('---->', contents[best_i])"
   ]
  },
  {
   "cell_type": "code",
   "execution_count": null,
   "metadata": {},
   "outputs": [],
   "source": []
  },
  {
   "cell_type": "code",
   "execution_count": null,
   "metadata": {},
   "outputs": [],
   "source": []
  },
  {
   "cell_type": "code",
   "execution_count": null,
   "metadata": {},
   "outputs": [],
   "source": []
  }
 ],
 "metadata": {
  "kernelspec": {
   "display_name": "Python 3",
   "language": "python",
   "name": "python3"
  },
  "language_info": {
   "codemirror_mode": {
    "name": "ipython",
    "version": 3
   },
   "file_extension": ".py",
   "mimetype": "text/x-python",
   "name": "python",
   "nbconvert_exporter": "python",
   "pygments_lexer": "ipython3",
   "version": "3.7.3"
  }
 },
 "nbformat": 4,
 "nbformat_minor": 2
}
