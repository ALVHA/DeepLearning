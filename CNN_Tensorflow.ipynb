{
 "cells": [
  {
   "cell_type": "markdown",
   "metadata": {},
   "source": [
    "#### 텐서플로우로 간단한 CNN 만들기\n",
    "\n",
    "* MNIST 데이터 셋 사용"
   ]
  },
  {
   "cell_type": "code",
   "execution_count": 4,
   "metadata": {
    "collapsed": false
   },
   "outputs": [
    {
     "data": {
      "text/plain": [
       "'1.2.1'"
      ]
     },
     "execution_count": 4,
     "metadata": {},
     "output_type": "execute_result"
    }
   ],
   "source": [
    "import tensorflow as tf\n",
    "from tensorflow.examples.tutorials.mnist import input_data\n",
    "\n",
    "tf.__version__"
   ]
  },
  {
   "cell_type": "code",
   "execution_count": 5,
   "metadata": {
    "collapsed": false
   },
   "outputs": [
    {
     "name": "stdout",
     "output_type": "stream",
     "text": [
      "Extracting MNIST_data\\train-images-idx3-ubyte.gz\n",
      "Extracting MNIST_data\\train-labels-idx1-ubyte.gz\n",
      "Extracting MNIST_data\\t10k-images-idx3-ubyte.gz\n",
      "Extracting MNIST_data\\t10k-labels-idx1-ubyte.gz\n"
     ]
    }
   ],
   "source": [
    "# 데이터셋 불러오기\n",
    "\n",
    "# 데이터셋을 읽어올 때 one_hot 인코딩 형태로, 이미지 모양은 그대로 받기 위해 reshape=False를 해줌\n",
    "# 이미지 사이즈는 28*28*1\n",
    "mnist = input_data.read_data_sets('MNIST_data', one_hot=True, reshape=False)"
   ]
  },
  {
   "cell_type": "markdown",
   "metadata": {},
   "source": [
    "## CNN모델 설정 및 Placeholder 설정\n"
   ]
  },
  {
   "cell_type": "code",
   "execution_count": 11,
   "metadata": {
    "collapsed": false
   },
   "outputs": [],
   "source": [
    "X = tf.placeholder(tf.float32, shape = [None, 28, 28, 1])\n",
    "Y_Label = tf.placeholder(tf.float32, shape=[None, 10])\n"
   ]
  },
  {
   "cell_type": "markdown",
   "metadata": {},
   "source": [
    "* Convolution Layer 만들기\n",
    "   - Conv2D -> Relu -> MaxPool"
   ]
  },
  {
   "cell_type": "code",
   "execution_count": 33,
   "metadata": {
    "collapsed": false
   },
   "outputs": [],
   "source": [
    "# 필터 사이즈 (4,4,1) 4개 사용, tf.truncated_normal()로 초기화\n",
    "# tf.Variable()로 변수 만듬\n",
    "\n",
    "Kernel1 = tf.Variable(tf.truncated_normal(shape=[4,4,1,4], stddev=0.1))\n",
    "Bias1 = tf.Variable(tf.truncated_normal(shape=[4], stddev=0.1))\n",
    "Conv1 = tf.nn.conv2d(X, Kernel1, strides=[1,1,1,1], padding='SAME') + Bias1\n",
    "Activation1 = tf.nn.relu(Conv1)\n",
    "Pool1 = tf.nn.max_pool(Activation1, ksize=[1,2,2,1], strides=[1,2,2,1], padding='SAME')\n",
    "\n",
    "Kernel2 = tf.Variable(tf.truncated_normal(shape=[4,4,4,8], stddev=0.1))\n",
    "Bias2 = tf.Variable(tf.truncated_normal(shape=[8], stddev=0.1))\n",
    "Conv2 = tf.nn.conv2d(Pool1, Kernel2,strides=[1,1,1,1], padding='SAME') + Bias2\n",
    "Activation2 = tf.nn.relu(Conv2)\n",
    "Pool2 = tf.nn.max_pool(Activation2, ksize=[1,2,2,1], strides=[1,2,2,1], padding='SAME')"
   ]
  },
  {
   "cell_type": "code",
   "execution_count": 34,
   "metadata": {
    "collapsed": true
   },
   "outputs": [],
   "source": [
    "## Fully_Connected Layer 만들기\n"
   ]
  },
  {
   "cell_type": "code",
   "execution_count": 36,
   "metadata": {
    "collapsed": false
   },
   "outputs": [],
   "source": [
    "## 8*7*7개의 입력을 받아서 10개의 output을 가지겠다\n",
    "W1 = tf.Variable(tf.truncated_normal(shape=[8*7*7, 10]))\n",
    "B1 = tf.Variable(tf.truncated_normal(shape=[10]))\n",
    "Pool2_flatten = tf.reshape(Pool2, [-1, 8*7*7]) # -1 은 배치 사이즈\n",
    "OutputLayer = tf.matmul(Pool2_flatten, W1) + B1"
   ]
  },
  {
   "cell_type": "code",
   "execution_count": 37,
   "metadata": {
    "collapsed": true
   },
   "outputs": [],
   "source": [
    "## Loss Function과 Opimizer 설정, 그리고 run"
   ]
  },
  {
   "cell_type": "code",
   "execution_count": 41,
   "metadata": {
    "collapsed": false
   },
   "outputs": [
    {
     "name": "stdout",
     "output_type": "stream",
     "text": [
      "Start -----> \n"
     ]
    },
    {
     "ename": "AttributeError",
     "evalue": "module 'tensorflow' has no attribute 'global_variable_initializer'",
     "output_type": "error",
     "traceback": [
      "\u001b[0;31m---------------------------------------------------------------------------\u001b[0m",
      "\u001b[0;31mAttributeError\u001b[0m                            Traceback (most recent call last)",
      "\u001b[0;32m<ipython-input-41-6a12568a6160>\u001b[0m in \u001b[0;36m<module>\u001b[0;34m()\u001b[0m\n\u001b[1;32m     13\u001b[0m \u001b[1;32mwith\u001b[0m \u001b[0mtf\u001b[0m\u001b[1;33m.\u001b[0m\u001b[0mSession\u001b[0m\u001b[1;33m(\u001b[0m\u001b[1;33m)\u001b[0m \u001b[1;32mas\u001b[0m \u001b[0msess\u001b[0m\u001b[1;33m:\u001b[0m\u001b[1;33m\u001b[0m\u001b[0m\n\u001b[1;32m     14\u001b[0m     \u001b[0mprint\u001b[0m\u001b[1;33m(\u001b[0m\u001b[1;34m\"Start -----> \"\u001b[0m\u001b[1;33m)\u001b[0m\u001b[1;33m\u001b[0m\u001b[0m\n\u001b[0;32m---> 15\u001b[0;31m     \u001b[0msess\u001b[0m\u001b[1;33m.\u001b[0m\u001b[0mrun\u001b[0m\u001b[1;33m(\u001b[0m\u001b[0mtf\u001b[0m\u001b[1;33m.\u001b[0m\u001b[0mglobal_variable_initializer\u001b[0m\u001b[1;33m(\u001b[0m\u001b[1;33m)\u001b[0m\u001b[1;33m)\u001b[0m \u001b[1;31m# 변수들을 꼭 초기화 시킴\u001b[0m\u001b[1;33m\u001b[0m\u001b[0m\n\u001b[0m\u001b[1;32m     16\u001b[0m     \u001b[1;32mfor\u001b[0m \u001b[0mi\u001b[0m \u001b[1;32min\u001b[0m \u001b[0mrange\u001b[0m\u001b[1;33m(\u001b[0m\u001b[1;36m1000\u001b[0m\u001b[1;33m)\u001b[0m\u001b[1;33m:\u001b[0m\u001b[1;33m\u001b[0m\u001b[0m\n\u001b[1;32m     17\u001b[0m         \u001b[0mtrainingData\u001b[0m\u001b[1;33m,\u001b[0m \u001b[0mY\u001b[0m \u001b[1;33m=\u001b[0m \u001b[0mmnist\u001b[0m\u001b[1;33m.\u001b[0m\u001b[0mtrain\u001b[0m\u001b[1;33m.\u001b[0m\u001b[0mnext_batch\u001b[0m\u001b[1;33m(\u001b[0m\u001b[1;36m64\u001b[0m\u001b[1;33m)\u001b[0m\u001b[1;33m\u001b[0m\u001b[0m\n",
      "\u001b[0;31mAttributeError\u001b[0m: module 'tensorflow' has no attribute 'global_variable_initializer'"
     ]
    }
   ],
   "source": [
    "# labels = 실제 클래스 값, logits = 출력값\n",
    "Loss =tf.reduce_mean(tf.nn.softmax_cross_entropy_with_logits(labels=Y_Label,\n",
    "                                                             logits=OutputLayer))\n",
    "# Loss를 최적화알고리즘을 사용하여 Loss를 최소화 시킴, 0.005는 leaning_rate\n",
    "train_step = tf.train.AdamOptimizer(0.005).minimize(Loss)\n",
    "\n",
    "# 출력과 실제 클래스가 맞는지 확인\n",
    "correct_prediction = tf.equal(tf.argmax(OutputLayer, 1), tf.argmax(Y_Label, 1))\n",
    "\n",
    "# 맞는지 틀린지 모아둔 값들을 평균을 냄\n",
    "accurary = tf.reduce_mean(tf.cast(correct_prediction, tf.float32))\n",
    "\n",
    "with tf.Session() as sess:\n",
    "    print(\"Start -----> \")\n",
    "    sess.run(tf.global_variable_initializer()) # 변수들을 꼭 초기화 시킴\n",
    "    for i in range(1000):\n",
    "        trainingData, Y = mnist.train.next_batch(64)\n",
    "        sess.run(train_step, feed_dict = {X:trainingData, Y_Label:Y})\n",
    "        if 1%100:\n",
    "            print(sess.run(accuarcy, \n",
    "                           feed_dict={X:mnist.test.images, \n",
    "                                      Y_Label:mnist.test.labels}))"
   ]
  },
  {
   "cell_type": "code",
   "execution_count": null,
   "metadata": {
    "collapsed": true
   },
   "outputs": [],
   "source": []
  }
 ],
 "metadata": {
  "kernelspec": {
   "display_name": "Python 3",
   "language": "python",
   "name": "python3"
  },
  "language_info": {
   "codemirror_mode": {
    "name": "ipython",
    "version": 3
   },
   "file_extension": ".py",
   "mimetype": "text/x-python",
   "name": "python",
   "nbconvert_exporter": "python",
   "pygments_lexer": "ipython3",
   "version": "3.6.0"
  }
 },
 "nbformat": 4,
 "nbformat_minor": 2
}
